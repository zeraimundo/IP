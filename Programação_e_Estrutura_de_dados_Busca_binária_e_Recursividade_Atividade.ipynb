{
  "nbformat": 4,
  "nbformat_minor": 0,
  "metadata": {
    "colab": {
      "name": "Programação e Estrutura de dados - Busca binária e Recursividade - Atividade.ipynb",
      "provenance": [],
      "collapsed_sections": [],
      "include_colab_link": true
    },
    "kernelspec": {
      "name": "python3",
      "display_name": "Python 3"
    }
  },
  "cells": [
    {
      "cell_type": "markdown",
      "metadata": {
        "id": "view-in-github",
        "colab_type": "text"
      },
      "source": [
        "<a href=\"https://colab.research.google.com/github/zeraimundo/IP_Exercicio_05042021/blob/main/Programa%C3%A7%C3%A3o_e_Estrutura_de_dados_Busca_bin%C3%A1ria_e_Recursividade_Atividade.ipynb\" target=\"_parent\"><img src=\"https://colab.research.google.com/assets/colab-badge.svg\" alt=\"Open In Colab\"/></a>"
      ]
    },
    {
      "cell_type": "markdown",
      "metadata": {
        "id": "2xKMs1B5R84q"
      },
      "source": [
        "# Atividade - Aplicação para busca de IP de servidores DNS pelo nome\n",
        "\n",
        "Observe os trechos de código a seguir. Eles baixam um arquivo CSV contendo os nomes dos servidores DNS do Brasil e armazenam o nome e o IP deles em um dicionário.\n",
        "\n",
        "\n"
      ]
    },
    {
      "cell_type": "code",
      "metadata": {
        "id": "V7lhCKaZEuEy",
        "colab": {
          "base_uri": "https://localhost:8080/"
        },
        "outputId": "5e68224a-0275-45e9-a03d-45e1e954c6b8"
      },
      "source": [
        "!wget https://storage.googleapis.com/materiais-aula/dns-br.csv"
      ],
      "execution_count": null,
      "outputs": [
        {
          "output_type": "stream",
          "text": [
            "--2021-04-21 11:33:21--  https://storage.googleapis.com/materiais-aula/dns-br.csv\n",
            "Resolving storage.googleapis.com (storage.googleapis.com)... 64.233.189.128, 108.177.97.128, 108.177.125.128, ...\n",
            "Connecting to storage.googleapis.com (storage.googleapis.com)|64.233.189.128|:443... connected.\n",
            "HTTP request sent, awaiting response... 200 OK\n",
            "Length: 4389 (4.3K) [text/csv]\n",
            "Saving to: ‘dns-br.csv’\n",
            "\n",
            "dns-br.csv          100%[===================>]   4.29K  --.-KB/s    in 0s      \n",
            "\n",
            "2021-04-21 11:33:21 (64.0 MB/s) - ‘dns-br.csv’ saved [4389/4389]\n",
            "\n"
          ],
          "name": "stdout"
        }
      ]
    },
    {
      "cell_type": "code",
      "metadata": {
        "id": "DZFTYyx-R3HY"
      },
      "source": [
        "import csv\n",
        "from typing import List\n",
        "import timeit \n",
        "\n",
        "servidores_dns = []\n",
        "with open('dns-br.csv') as csv_file:\n",
        "  csv_reader = csv.reader(csv_file, delimiter=';')\n",
        "  next(csv_reader, None)  # pula os cabeçalhos\n",
        "  for row in csv_reader:\n",
        "    servidor_dns = dict()\n",
        "    servidor_dns['ip'] = row[0]\n",
        "    servidor_dns['nome'] = row[1]\n",
        "    servidores_dns.append(servidor_dns)"
      ],
      "execution_count": null,
      "outputs": []
    },
    {
      "cell_type": "markdown",
      "metadata": {
        "id": "-5f1LNV9b4XN"
      },
      "source": [
        "### Implemente um algoritmo de busca que leia esse dicionário, receba como parâmetro o nome (ou parte do nome) do servidor e forneça como resultado o(s) IP(s) correspondentes àquele servidor.\n",
        "\n",
        "Exemplo:\n",
        "* Caso seja passado como parâmetro a palavra-chave `AMAZON`, o IP correspondente `54.94.175.250` deverá ser fornecido como resultado.\n",
        "\n",
        "**Importante:** Implemente a resposta escolhendo ao menos duas opções dentre as quatro descritas a seguir:\n",
        "1. Busca sequencial (iterativa)\n",
        "2. Busca sequencial (recursiva)\n",
        "3. Busca binária (iterativa)\n",
        "4. Busca binária (recursiva)\n",
        "\n",
        "Obs.: Ao menos uma das opções escolhidas deverá ser implementada de maneira recursiva.\n"
      ]
    },
    {
      "cell_type": "code",
      "metadata": {
        "id": "mR-Zu8ndFBGR",
        "colab": {
          "base_uri": "https://localhost:8080/"
        },
        "outputId": "91eb763a-cbb8-48cc-d26e-2fb45dd3ab1c"
      },
      "source": [
        "# Busca Sequencial (iterativa)\n",
        "def busca_linear(nome: str, servidores_dns: List[dict]) -> List[str]:\n",
        "    ips = []\n",
        "    nome = nome.lower()\n",
        "    for serv_dns in servidores_dns:\n",
        "        if nome in serv_dns[\"nome\"].lower():\n",
        "            ips.append(serv_dns['ip'])\n",
        "        if nome[0] < serv_dns['nome'].lower()[0]:\n",
        "            return ips\n",
        "    return ips\n",
        "  \n",
        "servidores_dns.sort(key=lambda a: a['nome'])\n",
        "print(busca_linear(\"telefonica\", servidores_dns.copy()))\n",
        "print(busca_linear(\"amazon\", servidores_dns.copy()))\n",
        "print(busca_linear(\"claro\", servidores_dns.copy()))\n",
        "print(\"tempo de execução = \", timeit.timeit(\"busca_linear('telefonica', servidores_dns.copy())\", setup=\"from __main__ import busca_linear; from __main__ import servidores_dns\", number=1000))"
      ],
      "execution_count": null,
      "outputs": [
        {
          "output_type": "stream",
          "text": [
            "['179.111.229.178', '177.43.35.247', '177.43.56.139', '177.135.204.163', '177.159.232.50', '177.159.232.52', '177.159.232.53', '186.215.128.142', '189.111.254.56', '200.99.138.94', '200.99.138.103', '200.205.44.154', '201.28.69.242', '177.43.76.244', '201.63.81.10', '187.75.155.116', '177.19.217.206', '179.185.88.86', '186.215.192.243']\n",
            "['54.94.175.250']\n",
            "['200.248.178.54', '189.4.130.159', '189.42.239.34', '200.167.191.114', '200.172.90.4', '200.174.105.3', '200.179.97.194', '200.252.235.20', '201.44.177.131', '201.45.193.131', '201.64.113.214', '201.73.200.3', '201.39.214.142', '200.209.145.234', '201.30.200.141', '189.55.193.173']\n",
            "tempo de execução =  0.04372430900002655\n"
          ],
          "name": "stdout"
        }
      ]
    },
    {
      "cell_type": "code",
      "metadata": {
        "id": "ciJ-qQ1wk6Jg",
        "colab": {
          "base_uri": "https://localhost:8080/"
        },
        "outputId": "26a6719f-df93-4c15-d3c0-65282beadfad"
      },
      "source": [
        "# Busca Sequencial (recursiva)\n",
        "def busca_linear_recursiva(\n",
        "        nome: str, servs: List[dict], ips: List=[]) -> List[str]:\n",
        "    if len(servs) == 0 or servs[0][\"nome\"].lower()[0] > nome.lower()[0]:\n",
        "        return ips\n",
        "    if nome.lower() in servs[0][\"nome\"].lower():\n",
        "        ips.append(servs[0][\"ip\"])\n",
        "    servs.pop(0)\n",
        "    return busca_linear_recursiva(nome, servs, ips)\n",
        "    \n",
        "servidores_dns.sort(key=lambda a: a['nome'])\n",
        "print(busca_linear_recursiva(\"telefonica\", servidores_dns.copy(), []))\n",
        "print(busca_linear_recursiva(\"amazon\", servidores_dns.copy(), []))\n",
        "print(busca_linear_recursiva(\"claro\", servidores_dns.copy(), []))\n",
        "print(\"tempo de execução = \", timeit.timeit(\"busca_linear_recursiva('telefonica', servidores_dns.copy())\", setup=\"from __main__ import busca_linear_recursiva; from __main__ import servidores_dns\", number=1000))"
      ],
      "execution_count": null,
      "outputs": [
        {
          "output_type": "stream",
          "text": [
            "['179.111.229.178', '177.43.35.247', '177.43.56.139', '177.135.204.163', '177.159.232.50', '177.159.232.52', '177.159.232.53', '186.215.128.142', '189.111.254.56', '200.99.138.94', '200.99.138.103', '200.205.44.154', '201.28.69.242', '177.43.76.244', '201.63.81.10', '187.75.155.116', '177.19.217.206', '179.185.88.86', '186.215.192.243']\n",
            "['54.94.175.250']\n",
            "['200.248.178.54', '189.4.130.159', '189.42.239.34', '200.167.191.114', '200.172.90.4', '200.174.105.3', '200.179.97.194', '200.252.235.20', '201.44.177.131', '201.45.193.131', '201.64.113.214', '201.73.200.3', '201.39.214.142', '200.209.145.234', '201.30.200.141', '189.55.193.173']\n",
            "tempo de execução =  0.08900549200006935\n"
          ],
          "name": "stdout"
        }
      ]
    },
    {
      "cell_type": "code",
      "metadata": {
        "id": "DE7U4Qh5T1rT",
        "colab": {
          "base_uri": "https://localhost:8080/"
        },
        "outputId": "b8aa7437-5558-4650-ce28-8b7e2d3a81ee"
      },
      "source": [
        "# Busca binária (iterativa)\n",
        "def busca_binaria(nome: str, servidores_dns: List[dict]) -> List[str]:\n",
        "    primeiro: int = 0\n",
        "    ultimo: int = len(servidores_dns)-1\n",
        "\n",
        "    ips = []\n",
        "    while primeiro <= ultimo:\n",
        "        nome = nome.lower()\n",
        "        meio = (primeiro + ultimo) // 2\n",
        "        if nome in servidores_dns[meio]['nome'].lower():\n",
        "            ips.append(servidores_dns[meio]['ip'])\n",
        "            del servidores_dns[meio]\n",
        "            continue\n",
        "        if nome < servidores_dns[meio]['nome'].lower():\n",
        "            ultimo = meio-1\n",
        "        else:\n",
        "            primeiro = meio+1\n",
        "    return ips\n",
        "\n",
        "servidores_dns.sort(key=lambda a: a['nome'])\n",
        "print(busca_binaria(\"telefonica\", servidores_dns.copy()))\n",
        "print(busca_binaria(\"amazon\", servidores_dns.copy()))\n",
        "print(busca_binaria(\"claro\", servidores_dns.copy()))\n",
        "print(\"tempo de execução = \", timeit.timeit(\"busca_binaria('telefonica', servidores_dns.copy())\", setup=\"from __main__ import busca_binaria; from __main__ import servidores_dns\", number=1000))"
      ],
      "execution_count": null,
      "outputs": [
        {
          "output_type": "stream",
          "text": [
            "['200.99.138.103', '200.205.44.154', '201.28.69.242', '177.43.76.244', '201.63.81.10', '187.75.155.116', '177.19.217.206', '179.185.88.86', '186.215.192.243', '177.135.204.163', '177.159.232.50', '177.159.232.52', '177.159.232.53', '186.215.128.142', '189.111.254.56', '200.99.138.94', '179.111.229.178', '177.43.35.247', '177.43.56.139']\n",
            "['54.94.175.250']\n",
            "['201.73.200.3', '201.39.214.142', '200.209.145.234', '201.30.200.141', '189.55.193.173', '200.172.90.4', '200.174.105.3', '200.179.97.194', '200.252.235.20', '201.44.177.131', '201.45.193.131', '201.64.113.214', '189.4.130.159', '189.42.239.34', '200.167.191.114', '200.248.178.54']\n",
            "tempo de execução =  0.015584388999997145\n"
          ],
          "name": "stdout"
        }
      ]
    },
    {
      "cell_type": "code",
      "metadata": {
        "id": "x5NKzLkQT3NN",
        "colab": {
          "base_uri": "https://localhost:8080/"
        },
        "outputId": "845c6f3d-7bba-4aa9-dd90-93b6c9f76b1f"
      },
      "source": [
        "# Busca binária (recursiva)\n",
        "def busca_binaria_recursiva(\n",
        "        nome: str, servidores_dns: List[dict],\n",
        "        primeiro=0, ultimo=None, ips=[]) -> List[str]:\n",
        "\n",
        "    if not ultimo:\n",
        "        ultimo = len(servidores_dns)-1\n",
        "\n",
        "    meio = (primeiro + ultimo) // 2\n",
        "\n",
        "    if nome in servidores_dns[meio]['nome'].lower():\n",
        "        ips.append(servidores_dns[meio]['ip'])\n",
        "        del servidores_dns[meio]\n",
        "        return busca_binaria_recursiva(\n",
        "                nome, servidores_dns, primeiro, ultimo, ips)\n",
        "\n",
        "    if meio == 0 or primeiro == ultimo:\n",
        "        return ips\n",
        "\n",
        "    if nome < servidores_dns[meio]['nome'].lower():\n",
        "        return busca_binaria_recursiva(\n",
        "                nome, servidores_dns, primeiro, meio, ips)\n",
        "    else:\n",
        "        return busca_binaria_recursiva(\n",
        "                nome, servidores_dns, meio+1, ultimo, ips)\n",
        "        \n",
        "servidores_dns.sort(key=lambda a: a['nome'])\n",
        "print(busca_binaria_recursiva(\"telefonica\", servidores_dns.copy(), 0, None, []))\n",
        "print(busca_binaria_recursiva(\"amazon\", servidores_dns.copy(), 0, None, []))\n",
        "print(busca_binaria_recursiva(\"claro\", servidores_dns.copy(), 0, None, []))\n",
        "print(\"tempo de execução = \", timeit.timeit(\"busca_binaria_recursiva('telefonica', servidores_dns.copy())\", setup=\"from __main__ import busca_binaria_recursiva; from __main__ import servidores_dns\", number=1000))"
      ],
      "execution_count": null,
      "outputs": [
        {
          "output_type": "stream",
          "text": [
            "['200.99.138.103', '200.205.44.154', '201.28.69.242', '177.43.76.244', '201.63.81.10', '187.75.155.116', '177.19.217.206', '179.185.88.86', '186.215.192.243', '177.159.232.50', '177.159.232.52', '177.159.232.53', '186.215.128.142', '189.111.254.56', '200.99.138.94', '177.43.35.247', '177.43.56.139', '177.135.204.163', '179.111.229.178']\n",
            "['54.94.175.250']\n",
            "['201.73.200.3', '201.39.214.142', '200.209.145.234', '201.30.200.141', '189.55.193.173', '200.174.105.3', '200.179.97.194', '200.252.235.20', '201.44.177.131', '201.45.193.131', '201.64.113.214', '189.42.239.34', '200.167.191.114', '200.172.90.4', '200.248.178.54', '189.4.130.159']\n",
            "tempo de execução =  0.015084269999988464\n"
          ],
          "name": "stdout"
        }
      ]
    },
    {
      "cell_type": "code",
      "metadata": {
        "id": "LvEEAhcVNXeD"
      },
      "source": [
        ""
      ],
      "execution_count": null,
      "outputs": []
    }
  ]
}