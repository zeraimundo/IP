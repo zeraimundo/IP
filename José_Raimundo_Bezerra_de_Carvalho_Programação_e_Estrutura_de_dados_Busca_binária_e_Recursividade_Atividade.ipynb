{
  "nbformat": 4,
  "nbformat_minor": 0,
  "metadata": {
    "colab": {
      "name": "José Raimundo Bezerra de Carvalho - Programação e Estrutura de dados - Busca binária e Recursividade - Atividade.ipynb",
      "provenance": [],
      "collapsed_sections": [],
      "include_colab_link": true
    },
    "kernelspec": {
      "name": "python3",
      "display_name": "Python 3"
    }
  },
  "cells": [
    {
      "cell_type": "markdown",
      "metadata": {
        "id": "view-in-github",
        "colab_type": "text"
      },
      "source": [
        "<a href=\"https://colab.research.google.com/github/zeraimundo/IP_Exercicio_05042021/blob/main/Jos%C3%A9_Raimundo_Bezerra_de_Carvalho_Programa%C3%A7%C3%A3o_e_Estrutura_de_dados_Busca_bin%C3%A1ria_e_Recursividade_Atividade.ipynb\" target=\"_parent\"><img src=\"https://colab.research.google.com/assets/colab-badge.svg\" alt=\"Open In Colab\"/></a>"
      ]
    },
    {
      "cell_type": "markdown",
      "metadata": {
        "id": "LA34drjjRnaB"
      },
      "source": [
        "GRUPO:\n",
        "Vinicius Bezerra C Centurion\n",
        "José Raimundo Bezerra de Carvalho\n",
        "Gabriel Estrela Lopes\n",
        "Samuel Araújo Cabral e Silva"
      ]
    },
    {
      "cell_type": "markdown",
      "metadata": {
        "id": "2xKMs1B5R84q"
      },
      "source": [
        "# Atividade - Aplicação para busca de IP de servidores DNS pelo nome\n",
        "\n",
        "Observe os trechos de código a seguir. Eles baixam um arquivo CSV contendo os nomes dos servidores DNS do Brasil e armazenam o nome e o IP deles em um dicionário.\n",
        "\n",
        "\n"
      ]
    },
    {
      "cell_type": "code",
      "metadata": {
        "id": "V7lhCKaZEuEy",
        "colab": {
          "base_uri": "https://localhost:8080/"
        },
        "outputId": "ae7d5ae8-db06-47ac-ffd7-657abcb8675f"
      },
      "source": [
        "!wget https://storage.googleapis.com/materiais-aula/dns-br.csv"
      ],
      "execution_count": 1,
      "outputs": [
        {
          "output_type": "stream",
          "text": [
            "--2021-08-29 18:52:25--  https://storage.googleapis.com/materiais-aula/dns-br.csv\n",
            "Resolving storage.googleapis.com (storage.googleapis.com)... 108.177.11.128, 172.217.204.128, 172.217.203.128, ...\n",
            "Connecting to storage.googleapis.com (storage.googleapis.com)|108.177.11.128|:443... connected.\n",
            "HTTP request sent, awaiting response... 200 OK\n",
            "Length: 4389 (4.3K) [text/csv]\n",
            "Saving to: ‘dns-br.csv’\n",
            "\n",
            "\rdns-br.csv            0%[                    ]       0  --.-KB/s               \rdns-br.csv          100%[===================>]   4.29K  --.-KB/s    in 0s      \n",
            "\n",
            "2021-08-29 18:52:25 (57.7 MB/s) - ‘dns-br.csv’ saved [4389/4389]\n",
            "\n"
          ],
          "name": "stdout"
        }
      ]
    },
    {
      "cell_type": "code",
      "metadata": {
        "id": "DZFTYyx-R3HY"
      },
      "source": [
        "import csv\n",
        "from typing import List\n",
        "import timeit \n",
        "\n",
        "servidores_dns = []\n",
        "with open('dns-br.csv') as csv_file:\n",
        "  csv_reader = csv.reader(csv_file, delimiter=';')\n",
        "  next(csv_reader, None)  # pula os cabeçalhos\n",
        "  for row in csv_reader:\n",
        "    servidor_dns = dict()\n",
        "    servidor_dns['ip'] = row[0]\n",
        "    servidor_dns['nome'] = row[1]\n",
        "    servidores_dns.append(servidor_dns)"
      ],
      "execution_count": 2,
      "outputs": []
    },
    {
      "cell_type": "markdown",
      "metadata": {
        "id": "-5f1LNV9b4XN"
      },
      "source": [
        "### Implemente um algoritmo de busca que leia esse dicionário, receba como parâmetro o nome (ou parte do nome) do servidor e forneça como resultado o(s) IP(s) correspondentes àquele servidor.\n",
        "\n",
        "Exemplo:\n",
        "* Caso seja passado como parâmetro a palavra-chave `AMAZON`, o IP correspondente `54.94.175.250` deverá ser fornecido como resultado.\n",
        "\n",
        "**Importante:** Implemente a resposta escolhendo ao menos duas opções dentre as quatro descritas a seguir:\n",
        "1. Busca sequencial (iterativa)\n",
        "2. Busca sequencial (recursiva)\n",
        "3. Busca binária (iterativa)\n",
        "4. Busca binária (recursiva)\n",
        "\n",
        "Obs.: Ao menos uma das opções escolhidas deverá ser implementada de maneira recursiva.\n"
      ]
    },
    {
      "cell_type": "code",
      "metadata": {
        "id": "mR-Zu8ndFBGR",
        "colab": {
          "base_uri": "https://localhost:8080/"
        },
        "outputId": "cc8137f0-4620-4569-8c47-880c630c1adb"
      },
      "source": [
        "# Busca Sequencial (iterativa)\n",
        "def busca_linear(nome: str, servidores_dns: List[dict]) -> List[str]:\n",
        "  resultado_busca = []\n",
        "  for servidor in servidores_dns:\n",
        "    if nome.upper() in servidor[\"nome\"].upper(): #compara parte do nome, tornado o caso insensitive ao transformas ambas strings para UPPER\n",
        "      resultado_busca.append(servidor[\"ip\"])\n",
        "      print(servidor)\n",
        "  return resultado_busca #retorna lista com os ip correspondentes a nome digitado\n",
        "\n",
        "print(\"LISTA DE SERVIDORES: \"+ str(servidores_dns))\n",
        "nome_buscado = input(\"digite o nome do servidor buscado: \")\n",
        "busca = busca_linear(nome_buscado,servidores_dns)\n",
        "print(\"IP's encontrados para servidor informado: \"+str(busca))\n",
        "print(len(busca))\n",
        "print(\"fim\")"
      ],
      "execution_count": 3,
      "outputs": [
        {
          "output_type": "stream",
          "text": [
            "LISTA DE SERVIDORES: [{'ip': '189.125.18.5', 'nome': 'LVLT-3549'}, {'ip': '200.221.11.100', 'nome': 'Universo Online S.A.'}, {'ip': '179.111.229.178', 'nome': 'TELEFONICA BRASIL S.A'}, {'ip': '200.248.178.54', 'nome': 'CLARO S.A.'}, {'ip': '177.131.114.86', 'nome': 'ACESSOLINE TELECOMUNICACOES LTDA'}, {'ip': '54.94.175.250', 'nome': 'AMAZON-02'}, {'ip': '200.221.11.101', 'nome': 'Universo Online S.A.'}, {'ip': '45.235.35.52', 'nome': 'TOP 37 ESTACOES E REDES DE TELECOMUNICACOES LTDA'}, {'ip': '45.235.35.235', 'nome': 'TOP 37 ESTACOES E REDES DE TELECOMUNICACOES LTDA'}, {'ip': '177.12.230.174', 'nome': 'ALOO TELECOM - FSF TECNOLOGIA SA'}, {'ip': '177.15.67.65', 'nome': 'TELECOMUNICACOES BRASILEIRAS S. A. - TELEBRAS'}, {'ip': '177.36.152.171', 'nome': 'GSTN DO BRASIL LTDA'}, {'ip': '177.43.35.247', 'nome': 'TELEFONICA BRASIL S.A'}, {'ip': '177.43.56.139', 'nome': 'TELEFONICA BRASIL S.A'}, {'ip': '177.47.128.2', 'nome': 'Ver Tv Comunicacoes S/A'}, {'ip': '177.52.232.7', 'nome': 'RSS SOCIEDADE CIVIL LTDA'}, {'ip': '177.66.203.10', 'nome': 'Downup Telecomunicacoes e servico LTDA'}, {'ip': '177.92.0.90', 'nome': 'COPEL Telecomunicacoes S.A.'}, {'ip': '177.135.204.163', 'nome': 'TELEFONICA BRASIL S.A'}, {'ip': '177.159.232.50', 'nome': 'TELEFONICA BRASIL S.A'}, {'ip': '177.159.232.52', 'nome': 'TELEFONICA BRASIL S.A'}, {'ip': '177.159.232.53', 'nome': 'TELEFONICA BRASIL S.A'}, {'ip': '177.184.131.54', 'nome': 'SOBRALNET SERVICOS E TELECOMUNICACOES LTDA - ME'}, {'ip': '177.184.131.180', 'nome': 'SOBRALNET SERVICOS E TELECOMUNICACOES LTDA - ME'}, {'ip': '179.127.175.242', 'nome': 'Unifique Telecomunicacoes SA'}, {'ip': '186.194.224.82', 'nome': 'R&R PROVEDOR DE INTERNET LTDA'}, {'ip': '186.215.128.142', 'nome': 'TELEFONICA BRASIL S.A'}, {'ip': '186.225.194.29', 'nome': 'Pannet Servicos On Line Ltda'}, {'ip': '187.1.175.81', 'nome': 'WorldNet Telecom Comercio e Servicos de Telecomuni'}, {'ip': '187.6.84.178', 'nome': 'Brasil Telecom S/A - Filial Distrito Federal'}, {'ip': '187.32.81.194', 'nome': 'ALGAR TELECOM S/A'}, {'ip': '187.32.81.223', 'nome': 'ALGAR TELECOM S/A'}, {'ip': '187.44.1.140', 'nome': 'Rede Brasileira de Comunicacao Ltda'}, {'ip': '187.60.128.69', 'nome': 'Navinet Ltda'}, {'ip': '187.120.208.172', 'nome': 'AMPLITUDENET PROVEDOR DE ACESSO A INTERNET LTDA'}, {'ip': '189.4.130.159', 'nome': 'CLARO S.A.'}, {'ip': '189.42.239.34', 'nome': 'CLARO S.A.'}, {'ip': '189.111.254.56', 'nome': 'TELEFONICA BRASIL S.A'}, {'ip': '189.113.75.5', 'nome': 'VM OPENLINK COMUNICACAO MULTIMIDIA S.A.'}, {'ip': '189.125.73.13', 'nome': 'LVLT-3549'}, {'ip': '192.146.229.22', 'nome': 'Empresa Brasileira de Ens.Peq.Extensao S/A-EMBRAE'}, {'ip': '200.99.138.94', 'nome': 'TELEFONICA BRASIL S.A'}, {'ip': '200.99.138.103', 'nome': 'TELEFONICA BRASIL S.A'}, {'ip': '200.142.160.54', 'nome': 'Telespazio Brasil S.A.'}, {'ip': '200.150.112.58', 'nome': 'COPEL Telecomunicacoes S.A.'}, {'ip': '200.159.205.11', 'nome': 'AMERICAN TOWER DO BRASIL-COMUNICACAO MULTIMIDIA LT'}, {'ip': '200.159.205.12', 'nome': 'AMERICAN TOWER DO BRASIL-COMUNICACAO MULTIMIDIA LT'}, {'ip': '200.162.136.138', 'nome': 'Transit do Brasil S/A'}, {'ip': '200.162.142.66', 'nome': 'Transit do Brasil S/A'}, {'ip': '200.167.191.114', 'nome': 'CLARO S.A.'}, {'ip': '200.169.8.1', 'nome': 'Century Telecom Ltda'}, {'ip': '200.172.90.4', 'nome': 'CLARO S.A.'}, {'ip': '200.174.105.3', 'nome': 'CLARO S.A.'}, {'ip': '200.179.97.194', 'nome': 'CLARO S.A.'}, {'ip': '200.185.113.202', 'nome': 'TIVIT TERCEIRIZACAO DE PROCESSOS, SERV. E TEC. S/A'}, {'ip': '200.195.180.226', 'nome': 'COPEL Telecomunicacoes S.A.'}, {'ip': '200.196.57.42', 'nome': 'Mundivox LTDA'}, {'ip': '200.205.44.154', 'nome': 'TELEFONICA BRASIL S.A'}, {'ip': '200.222.51.208', 'nome': 'Telemar Norte Leste S.A.'}, {'ip': '200.223.129.162', 'nome': 'Telemar Norte Leste S.A.'}, {'ip': '200.252.235.20', 'nome': 'CLARO S.A.'}, {'ip': '201.28.69.242', 'nome': 'TELEFONICA BRASIL S.A'}, {'ip': '201.44.177.131', 'nome': 'CLARO S.A.'}, {'ip': '201.45.193.131', 'nome': 'CLARO S.A.'}, {'ip': '201.64.113.214', 'nome': 'CLARO S.A.'}, {'ip': '201.73.200.3', 'nome': 'CLARO S.A.'}, {'ip': '186.216.63.97', 'nome': 'METROFLEX TELECOMUNICACOES LTDA'}, {'ip': '186.237.202.26', 'nome': 'ALGAR TECNOLOGIA E CONSULTORIA SA'}, {'ip': '179.191.86.162', 'nome': 'Mundivox LTDA'}, {'ip': '177.43.76.244', 'nome': 'TELEFONICA BRASIL S.A'}, {'ip': '187.120.48.47', 'nome': 'RRM SERVICOS DE INFORMATICA LTDA'}, {'ip': '200.150.113.147', 'nome': 'COPEL Telecomunicacoes S.A.'}, {'ip': '201.39.214.142', 'nome': 'CLARO S.A.'}, {'ip': '201.87.219.232', 'nome': 'INTERNEXA BRASIL OPERADORA DE TELECOMUNICACOES S.A'}, {'ip': '200.150.79.85', 'nome': 'COPEL Telecomunicacoes S.A.'}, {'ip': '187.33.230.114', 'nome': 'TELY Ltda.'}, {'ip': '189.124.138.68', 'nome': 'CABO SERVICOS DE TELECOMUNICACOES LTDA'}, {'ip': '187.62.226.69', 'nome': 'METROFLEX TELECOMUNICACOES LTDA'}, {'ip': '187.62.226.65', 'nome': 'METROFLEX TELECOMUNICACOES LTDA'}, {'ip': '200.209.145.234', 'nome': 'CLARO S.A.'}, {'ip': '201.30.200.141', 'nome': 'CLARO S.A.'}, {'ip': '201.63.81.10', 'nome': 'TELEFONICA BRASIL S.A'}, {'ip': '187.75.155.116', 'nome': 'TELEFONICA BRASIL S.A'}, {'ip': '177.19.217.206', 'nome': 'TELEFONICA BRASIL S.A'}, {'ip': '189.113.132.101', 'nome': 'TELECALL TELECOMUNICACOES'}, {'ip': '189.55.193.173', 'nome': 'CLARO S.A.'}, {'ip': '186.216.62.5', 'nome': 'METROFLEX TELECOMUNICACOES LTDA'}, {'ip': '179.185.88.86', 'nome': 'TELEFONICA BRASIL S.A'}, {'ip': '168.181.111.10', 'nome': 'VERDANTE SERVICOS DE TELECOMUNICACOES LTDA'}, {'ip': '170.239.213.68', 'nome': 'H NET SERVICOS DE COMUNICACAO E TECNOLOGIA LTDA'}, {'ip': '170.247.211.253', 'nome': 'INTERLIGADOS PROVEDOR - ME'}, {'ip': '177.124.247.2', 'nome': 'Mundivox LTDA'}, {'ip': '177.85.176.140', 'nome': 'Ivr informatica ltda me'}, {'ip': '177.86.233.170', 'nome': 'Pw Access Telecomunicacoes Ltda'}, {'ip': '177.93.250.3', 'nome': 'TEN INTERNET Ltda'}, {'ip': '186.193.181.226', 'nome': 'Jupiter Telecomunicacoes e Informatica Ltda'}, {'ip': '186.215.192.243', 'nome': 'TELEFONICA BRASIL S.A'}, {'ip': '186.219.160.7', 'nome': 'HEXATO TECNOLOGIA E FERRAMENTAS DE INTERNET LTDA'}, {'ip': '200.220.192.88', 'nome': 'INTERNEXA BRASIL OPERADORA DE TELECOMUNICACOES S.A'}, {'ip': '45.233.172.10', 'nome': 'TRINDADEWEB PROVEDOR'}, {'ip': '200.195.174.67', 'nome': 'COPEL Telecomunicacoes S.A.'}, {'ip': '45.225.123.34', 'nome': 'CENTROSULNET INFORMATICA EIRELI'}, {'ip': '45.225.123.54', 'nome': 'CENTROSULNET INFORMATICA EIRELI'}, {'ip': '45.225.123.88', 'nome': 'CENTROSULNET INFORMATICA EIRELI'}]\n",
            "digite o nome do servidor buscado: Universo Online S.A\n",
            "{'ip': '200.221.11.100', 'nome': 'Universo Online S.A.'}\n",
            "{'ip': '200.221.11.101', 'nome': 'Universo Online S.A.'}\n",
            "IP's encontrados para servidor informado: ['200.221.11.100', '200.221.11.101']\n",
            "2\n",
            "fim\n"
          ],
          "name": "stdout"
        }
      ]
    },
    {
      "cell_type": "code",
      "metadata": {
        "id": "ciJ-qQ1wk6Jg",
        "colab": {
          "base_uri": "https://localhost:8080/"
        },
        "outputId": "d5da8f1c-f08f-4ee4-cf72-fa28873029a7"
      },
      "source": [
        "# Busca Sequencial (recursiva)\n",
        "def busca_linear_recursiva(nome: str, servs: List[dict], ips: List=[]) -> List[str]:\n",
        "  if not servs:\n",
        "    return\n",
        "  if nome.upper() in servs[0]['nome'].upper():\n",
        "    ips.append(servs[0]['ip'])\n",
        "    print(servs[0])\n",
        "  servs.pop(0)\n",
        "  return busca_linear_recursiva (nome,servs,ips)\n",
        "\n",
        "print(\"LISTA DE SERVIDORES: \"+ str(servidores_dns))\n",
        "busca2 = []\n",
        "lista_servidores = servidores_dns.copy()\n",
        "print(\"LISTA DE SERVIDORES (COPIA): \"+ str(lista_servidores))\n",
        "print(\"TESTE IMPRESSÃO de IP: \"+ str(lista_servidores[0]['ip']))\n",
        "nome_buscado = input(\"digite o nome do servidor buscado: \")\n",
        "busca_linear_recursiva(nome_buscado,lista_servidores,busca2)\n",
        "print(\"IP's encontrados para servidor informado: \"+str(busca2))\n",
        "print(len(busca2))\n",
        "print(\"fim\")\n"
      ],
      "execution_count": 4,
      "outputs": [
        {
          "output_type": "stream",
          "text": [
            "LISTA DE SERVIDORES: [{'ip': '189.125.18.5', 'nome': 'LVLT-3549'}, {'ip': '200.221.11.100', 'nome': 'Universo Online S.A.'}, {'ip': '179.111.229.178', 'nome': 'TELEFONICA BRASIL S.A'}, {'ip': '200.248.178.54', 'nome': 'CLARO S.A.'}, {'ip': '177.131.114.86', 'nome': 'ACESSOLINE TELECOMUNICACOES LTDA'}, {'ip': '54.94.175.250', 'nome': 'AMAZON-02'}, {'ip': '200.221.11.101', 'nome': 'Universo Online S.A.'}, {'ip': '45.235.35.52', 'nome': 'TOP 37 ESTACOES E REDES DE TELECOMUNICACOES LTDA'}, {'ip': '45.235.35.235', 'nome': 'TOP 37 ESTACOES E REDES DE TELECOMUNICACOES LTDA'}, {'ip': '177.12.230.174', 'nome': 'ALOO TELECOM - FSF TECNOLOGIA SA'}, {'ip': '177.15.67.65', 'nome': 'TELECOMUNICACOES BRASILEIRAS S. A. - TELEBRAS'}, {'ip': '177.36.152.171', 'nome': 'GSTN DO BRASIL LTDA'}, {'ip': '177.43.35.247', 'nome': 'TELEFONICA BRASIL S.A'}, {'ip': '177.43.56.139', 'nome': 'TELEFONICA BRASIL S.A'}, {'ip': '177.47.128.2', 'nome': 'Ver Tv Comunicacoes S/A'}, {'ip': '177.52.232.7', 'nome': 'RSS SOCIEDADE CIVIL LTDA'}, {'ip': '177.66.203.10', 'nome': 'Downup Telecomunicacoes e servico LTDA'}, {'ip': '177.92.0.90', 'nome': 'COPEL Telecomunicacoes S.A.'}, {'ip': '177.135.204.163', 'nome': 'TELEFONICA BRASIL S.A'}, {'ip': '177.159.232.50', 'nome': 'TELEFONICA BRASIL S.A'}, {'ip': '177.159.232.52', 'nome': 'TELEFONICA BRASIL S.A'}, {'ip': '177.159.232.53', 'nome': 'TELEFONICA BRASIL S.A'}, {'ip': '177.184.131.54', 'nome': 'SOBRALNET SERVICOS E TELECOMUNICACOES LTDA - ME'}, {'ip': '177.184.131.180', 'nome': 'SOBRALNET SERVICOS E TELECOMUNICACOES LTDA - ME'}, {'ip': '179.127.175.242', 'nome': 'Unifique Telecomunicacoes SA'}, {'ip': '186.194.224.82', 'nome': 'R&R PROVEDOR DE INTERNET LTDA'}, {'ip': '186.215.128.142', 'nome': 'TELEFONICA BRASIL S.A'}, {'ip': '186.225.194.29', 'nome': 'Pannet Servicos On Line Ltda'}, {'ip': '187.1.175.81', 'nome': 'WorldNet Telecom Comercio e Servicos de Telecomuni'}, {'ip': '187.6.84.178', 'nome': 'Brasil Telecom S/A - Filial Distrito Federal'}, {'ip': '187.32.81.194', 'nome': 'ALGAR TELECOM S/A'}, {'ip': '187.32.81.223', 'nome': 'ALGAR TELECOM S/A'}, {'ip': '187.44.1.140', 'nome': 'Rede Brasileira de Comunicacao Ltda'}, {'ip': '187.60.128.69', 'nome': 'Navinet Ltda'}, {'ip': '187.120.208.172', 'nome': 'AMPLITUDENET PROVEDOR DE ACESSO A INTERNET LTDA'}, {'ip': '189.4.130.159', 'nome': 'CLARO S.A.'}, {'ip': '189.42.239.34', 'nome': 'CLARO S.A.'}, {'ip': '189.111.254.56', 'nome': 'TELEFONICA BRASIL S.A'}, {'ip': '189.113.75.5', 'nome': 'VM OPENLINK COMUNICACAO MULTIMIDIA S.A.'}, {'ip': '189.125.73.13', 'nome': 'LVLT-3549'}, {'ip': '192.146.229.22', 'nome': 'Empresa Brasileira de Ens.Peq.Extensao S/A-EMBRAE'}, {'ip': '200.99.138.94', 'nome': 'TELEFONICA BRASIL S.A'}, {'ip': '200.99.138.103', 'nome': 'TELEFONICA BRASIL S.A'}, {'ip': '200.142.160.54', 'nome': 'Telespazio Brasil S.A.'}, {'ip': '200.150.112.58', 'nome': 'COPEL Telecomunicacoes S.A.'}, {'ip': '200.159.205.11', 'nome': 'AMERICAN TOWER DO BRASIL-COMUNICACAO MULTIMIDIA LT'}, {'ip': '200.159.205.12', 'nome': 'AMERICAN TOWER DO BRASIL-COMUNICACAO MULTIMIDIA LT'}, {'ip': '200.162.136.138', 'nome': 'Transit do Brasil S/A'}, {'ip': '200.162.142.66', 'nome': 'Transit do Brasil S/A'}, {'ip': '200.167.191.114', 'nome': 'CLARO S.A.'}, {'ip': '200.169.8.1', 'nome': 'Century Telecom Ltda'}, {'ip': '200.172.90.4', 'nome': 'CLARO S.A.'}, {'ip': '200.174.105.3', 'nome': 'CLARO S.A.'}, {'ip': '200.179.97.194', 'nome': 'CLARO S.A.'}, {'ip': '200.185.113.202', 'nome': 'TIVIT TERCEIRIZACAO DE PROCESSOS, SERV. E TEC. S/A'}, {'ip': '200.195.180.226', 'nome': 'COPEL Telecomunicacoes S.A.'}, {'ip': '200.196.57.42', 'nome': 'Mundivox LTDA'}, {'ip': '200.205.44.154', 'nome': 'TELEFONICA BRASIL S.A'}, {'ip': '200.222.51.208', 'nome': 'Telemar Norte Leste S.A.'}, {'ip': '200.223.129.162', 'nome': 'Telemar Norte Leste S.A.'}, {'ip': '200.252.235.20', 'nome': 'CLARO S.A.'}, {'ip': '201.28.69.242', 'nome': 'TELEFONICA BRASIL S.A'}, {'ip': '201.44.177.131', 'nome': 'CLARO S.A.'}, {'ip': '201.45.193.131', 'nome': 'CLARO S.A.'}, {'ip': '201.64.113.214', 'nome': 'CLARO S.A.'}, {'ip': '201.73.200.3', 'nome': 'CLARO S.A.'}, {'ip': '186.216.63.97', 'nome': 'METROFLEX TELECOMUNICACOES LTDA'}, {'ip': '186.237.202.26', 'nome': 'ALGAR TECNOLOGIA E CONSULTORIA SA'}, {'ip': '179.191.86.162', 'nome': 'Mundivox LTDA'}, {'ip': '177.43.76.244', 'nome': 'TELEFONICA BRASIL S.A'}, {'ip': '187.120.48.47', 'nome': 'RRM SERVICOS DE INFORMATICA LTDA'}, {'ip': '200.150.113.147', 'nome': 'COPEL Telecomunicacoes S.A.'}, {'ip': '201.39.214.142', 'nome': 'CLARO S.A.'}, {'ip': '201.87.219.232', 'nome': 'INTERNEXA BRASIL OPERADORA DE TELECOMUNICACOES S.A'}, {'ip': '200.150.79.85', 'nome': 'COPEL Telecomunicacoes S.A.'}, {'ip': '187.33.230.114', 'nome': 'TELY Ltda.'}, {'ip': '189.124.138.68', 'nome': 'CABO SERVICOS DE TELECOMUNICACOES LTDA'}, {'ip': '187.62.226.69', 'nome': 'METROFLEX TELECOMUNICACOES LTDA'}, {'ip': '187.62.226.65', 'nome': 'METROFLEX TELECOMUNICACOES LTDA'}, {'ip': '200.209.145.234', 'nome': 'CLARO S.A.'}, {'ip': '201.30.200.141', 'nome': 'CLARO S.A.'}, {'ip': '201.63.81.10', 'nome': 'TELEFONICA BRASIL S.A'}, {'ip': '187.75.155.116', 'nome': 'TELEFONICA BRASIL S.A'}, {'ip': '177.19.217.206', 'nome': 'TELEFONICA BRASIL S.A'}, {'ip': '189.113.132.101', 'nome': 'TELECALL TELECOMUNICACOES'}, {'ip': '189.55.193.173', 'nome': 'CLARO S.A.'}, {'ip': '186.216.62.5', 'nome': 'METROFLEX TELECOMUNICACOES LTDA'}, {'ip': '179.185.88.86', 'nome': 'TELEFONICA BRASIL S.A'}, {'ip': '168.181.111.10', 'nome': 'VERDANTE SERVICOS DE TELECOMUNICACOES LTDA'}, {'ip': '170.239.213.68', 'nome': 'H NET SERVICOS DE COMUNICACAO E TECNOLOGIA LTDA'}, {'ip': '170.247.211.253', 'nome': 'INTERLIGADOS PROVEDOR - ME'}, {'ip': '177.124.247.2', 'nome': 'Mundivox LTDA'}, {'ip': '177.85.176.140', 'nome': 'Ivr informatica ltda me'}, {'ip': '177.86.233.170', 'nome': 'Pw Access Telecomunicacoes Ltda'}, {'ip': '177.93.250.3', 'nome': 'TEN INTERNET Ltda'}, {'ip': '186.193.181.226', 'nome': 'Jupiter Telecomunicacoes e Informatica Ltda'}, {'ip': '186.215.192.243', 'nome': 'TELEFONICA BRASIL S.A'}, {'ip': '186.219.160.7', 'nome': 'HEXATO TECNOLOGIA E FERRAMENTAS DE INTERNET LTDA'}, {'ip': '200.220.192.88', 'nome': 'INTERNEXA BRASIL OPERADORA DE TELECOMUNICACOES S.A'}, {'ip': '45.233.172.10', 'nome': 'TRINDADEWEB PROVEDOR'}, {'ip': '200.195.174.67', 'nome': 'COPEL Telecomunicacoes S.A.'}, {'ip': '45.225.123.34', 'nome': 'CENTROSULNET INFORMATICA EIRELI'}, {'ip': '45.225.123.54', 'nome': 'CENTROSULNET INFORMATICA EIRELI'}, {'ip': '45.225.123.88', 'nome': 'CENTROSULNET INFORMATICA EIRELI'}]\n",
            "LISTA DE SERVIDORES (COPIA): [{'ip': '189.125.18.5', 'nome': 'LVLT-3549'}, {'ip': '200.221.11.100', 'nome': 'Universo Online S.A.'}, {'ip': '179.111.229.178', 'nome': 'TELEFONICA BRASIL S.A'}, {'ip': '200.248.178.54', 'nome': 'CLARO S.A.'}, {'ip': '177.131.114.86', 'nome': 'ACESSOLINE TELECOMUNICACOES LTDA'}, {'ip': '54.94.175.250', 'nome': 'AMAZON-02'}, {'ip': '200.221.11.101', 'nome': 'Universo Online S.A.'}, {'ip': '45.235.35.52', 'nome': 'TOP 37 ESTACOES E REDES DE TELECOMUNICACOES LTDA'}, {'ip': '45.235.35.235', 'nome': 'TOP 37 ESTACOES E REDES DE TELECOMUNICACOES LTDA'}, {'ip': '177.12.230.174', 'nome': 'ALOO TELECOM - FSF TECNOLOGIA SA'}, {'ip': '177.15.67.65', 'nome': 'TELECOMUNICACOES BRASILEIRAS S. A. - TELEBRAS'}, {'ip': '177.36.152.171', 'nome': 'GSTN DO BRASIL LTDA'}, {'ip': '177.43.35.247', 'nome': 'TELEFONICA BRASIL S.A'}, {'ip': '177.43.56.139', 'nome': 'TELEFONICA BRASIL S.A'}, {'ip': '177.47.128.2', 'nome': 'Ver Tv Comunicacoes S/A'}, {'ip': '177.52.232.7', 'nome': 'RSS SOCIEDADE CIVIL LTDA'}, {'ip': '177.66.203.10', 'nome': 'Downup Telecomunicacoes e servico LTDA'}, {'ip': '177.92.0.90', 'nome': 'COPEL Telecomunicacoes S.A.'}, {'ip': '177.135.204.163', 'nome': 'TELEFONICA BRASIL S.A'}, {'ip': '177.159.232.50', 'nome': 'TELEFONICA BRASIL S.A'}, {'ip': '177.159.232.52', 'nome': 'TELEFONICA BRASIL S.A'}, {'ip': '177.159.232.53', 'nome': 'TELEFONICA BRASIL S.A'}, {'ip': '177.184.131.54', 'nome': 'SOBRALNET SERVICOS E TELECOMUNICACOES LTDA - ME'}, {'ip': '177.184.131.180', 'nome': 'SOBRALNET SERVICOS E TELECOMUNICACOES LTDA - ME'}, {'ip': '179.127.175.242', 'nome': 'Unifique Telecomunicacoes SA'}, {'ip': '186.194.224.82', 'nome': 'R&R PROVEDOR DE INTERNET LTDA'}, {'ip': '186.215.128.142', 'nome': 'TELEFONICA BRASIL S.A'}, {'ip': '186.225.194.29', 'nome': 'Pannet Servicos On Line Ltda'}, {'ip': '187.1.175.81', 'nome': 'WorldNet Telecom Comercio e Servicos de Telecomuni'}, {'ip': '187.6.84.178', 'nome': 'Brasil Telecom S/A - Filial Distrito Federal'}, {'ip': '187.32.81.194', 'nome': 'ALGAR TELECOM S/A'}, {'ip': '187.32.81.223', 'nome': 'ALGAR TELECOM S/A'}, {'ip': '187.44.1.140', 'nome': 'Rede Brasileira de Comunicacao Ltda'}, {'ip': '187.60.128.69', 'nome': 'Navinet Ltda'}, {'ip': '187.120.208.172', 'nome': 'AMPLITUDENET PROVEDOR DE ACESSO A INTERNET LTDA'}, {'ip': '189.4.130.159', 'nome': 'CLARO S.A.'}, {'ip': '189.42.239.34', 'nome': 'CLARO S.A.'}, {'ip': '189.111.254.56', 'nome': 'TELEFONICA BRASIL S.A'}, {'ip': '189.113.75.5', 'nome': 'VM OPENLINK COMUNICACAO MULTIMIDIA S.A.'}, {'ip': '189.125.73.13', 'nome': 'LVLT-3549'}, {'ip': '192.146.229.22', 'nome': 'Empresa Brasileira de Ens.Peq.Extensao S/A-EMBRAE'}, {'ip': '200.99.138.94', 'nome': 'TELEFONICA BRASIL S.A'}, {'ip': '200.99.138.103', 'nome': 'TELEFONICA BRASIL S.A'}, {'ip': '200.142.160.54', 'nome': 'Telespazio Brasil S.A.'}, {'ip': '200.150.112.58', 'nome': 'COPEL Telecomunicacoes S.A.'}, {'ip': '200.159.205.11', 'nome': 'AMERICAN TOWER DO BRASIL-COMUNICACAO MULTIMIDIA LT'}, {'ip': '200.159.205.12', 'nome': 'AMERICAN TOWER DO BRASIL-COMUNICACAO MULTIMIDIA LT'}, {'ip': '200.162.136.138', 'nome': 'Transit do Brasil S/A'}, {'ip': '200.162.142.66', 'nome': 'Transit do Brasil S/A'}, {'ip': '200.167.191.114', 'nome': 'CLARO S.A.'}, {'ip': '200.169.8.1', 'nome': 'Century Telecom Ltda'}, {'ip': '200.172.90.4', 'nome': 'CLARO S.A.'}, {'ip': '200.174.105.3', 'nome': 'CLARO S.A.'}, {'ip': '200.179.97.194', 'nome': 'CLARO S.A.'}, {'ip': '200.185.113.202', 'nome': 'TIVIT TERCEIRIZACAO DE PROCESSOS, SERV. E TEC. S/A'}, {'ip': '200.195.180.226', 'nome': 'COPEL Telecomunicacoes S.A.'}, {'ip': '200.196.57.42', 'nome': 'Mundivox LTDA'}, {'ip': '200.205.44.154', 'nome': 'TELEFONICA BRASIL S.A'}, {'ip': '200.222.51.208', 'nome': 'Telemar Norte Leste S.A.'}, {'ip': '200.223.129.162', 'nome': 'Telemar Norte Leste S.A.'}, {'ip': '200.252.235.20', 'nome': 'CLARO S.A.'}, {'ip': '201.28.69.242', 'nome': 'TELEFONICA BRASIL S.A'}, {'ip': '201.44.177.131', 'nome': 'CLARO S.A.'}, {'ip': '201.45.193.131', 'nome': 'CLARO S.A.'}, {'ip': '201.64.113.214', 'nome': 'CLARO S.A.'}, {'ip': '201.73.200.3', 'nome': 'CLARO S.A.'}, {'ip': '186.216.63.97', 'nome': 'METROFLEX TELECOMUNICACOES LTDA'}, {'ip': '186.237.202.26', 'nome': 'ALGAR TECNOLOGIA E CONSULTORIA SA'}, {'ip': '179.191.86.162', 'nome': 'Mundivox LTDA'}, {'ip': '177.43.76.244', 'nome': 'TELEFONICA BRASIL S.A'}, {'ip': '187.120.48.47', 'nome': 'RRM SERVICOS DE INFORMATICA LTDA'}, {'ip': '200.150.113.147', 'nome': 'COPEL Telecomunicacoes S.A.'}, {'ip': '201.39.214.142', 'nome': 'CLARO S.A.'}, {'ip': '201.87.219.232', 'nome': 'INTERNEXA BRASIL OPERADORA DE TELECOMUNICACOES S.A'}, {'ip': '200.150.79.85', 'nome': 'COPEL Telecomunicacoes S.A.'}, {'ip': '187.33.230.114', 'nome': 'TELY Ltda.'}, {'ip': '189.124.138.68', 'nome': 'CABO SERVICOS DE TELECOMUNICACOES LTDA'}, {'ip': '187.62.226.69', 'nome': 'METROFLEX TELECOMUNICACOES LTDA'}, {'ip': '187.62.226.65', 'nome': 'METROFLEX TELECOMUNICACOES LTDA'}, {'ip': '200.209.145.234', 'nome': 'CLARO S.A.'}, {'ip': '201.30.200.141', 'nome': 'CLARO S.A.'}, {'ip': '201.63.81.10', 'nome': 'TELEFONICA BRASIL S.A'}, {'ip': '187.75.155.116', 'nome': 'TELEFONICA BRASIL S.A'}, {'ip': '177.19.217.206', 'nome': 'TELEFONICA BRASIL S.A'}, {'ip': '189.113.132.101', 'nome': 'TELECALL TELECOMUNICACOES'}, {'ip': '189.55.193.173', 'nome': 'CLARO S.A.'}, {'ip': '186.216.62.5', 'nome': 'METROFLEX TELECOMUNICACOES LTDA'}, {'ip': '179.185.88.86', 'nome': 'TELEFONICA BRASIL S.A'}, {'ip': '168.181.111.10', 'nome': 'VERDANTE SERVICOS DE TELECOMUNICACOES LTDA'}, {'ip': '170.239.213.68', 'nome': 'H NET SERVICOS DE COMUNICACAO E TECNOLOGIA LTDA'}, {'ip': '170.247.211.253', 'nome': 'INTERLIGADOS PROVEDOR - ME'}, {'ip': '177.124.247.2', 'nome': 'Mundivox LTDA'}, {'ip': '177.85.176.140', 'nome': 'Ivr informatica ltda me'}, {'ip': '177.86.233.170', 'nome': 'Pw Access Telecomunicacoes Ltda'}, {'ip': '177.93.250.3', 'nome': 'TEN INTERNET Ltda'}, {'ip': '186.193.181.226', 'nome': 'Jupiter Telecomunicacoes e Informatica Ltda'}, {'ip': '186.215.192.243', 'nome': 'TELEFONICA BRASIL S.A'}, {'ip': '186.219.160.7', 'nome': 'HEXATO TECNOLOGIA E FERRAMENTAS DE INTERNET LTDA'}, {'ip': '200.220.192.88', 'nome': 'INTERNEXA BRASIL OPERADORA DE TELECOMUNICACOES S.A'}, {'ip': '45.233.172.10', 'nome': 'TRINDADEWEB PROVEDOR'}, {'ip': '200.195.174.67', 'nome': 'COPEL Telecomunicacoes S.A.'}, {'ip': '45.225.123.34', 'nome': 'CENTROSULNET INFORMATICA EIRELI'}, {'ip': '45.225.123.54', 'nome': 'CENTROSULNET INFORMATICA EIRELI'}, {'ip': '45.225.123.88', 'nome': 'CENTROSULNET INFORMATICA EIRELI'}]\n",
            "TESTE IMPRESSÃO de IP: 189.125.18.5\n",
            "digite o nome do servidor buscado: Universo Online S.A\n",
            "{'ip': '200.221.11.100', 'nome': 'Universo Online S.A.'}\n",
            "{'ip': '200.221.11.101', 'nome': 'Universo Online S.A.'}\n",
            "IP's encontrados para servidor informado: ['200.221.11.100', '200.221.11.101']\n",
            "2\n",
            "fim\n"
          ],
          "name": "stdout"
        }
      ]
    },
    {
      "cell_type": "code",
      "metadata": {
        "id": "DE7U4Qh5T1rT",
        "colab": {
          "base_uri": "https://localhost:8080/"
        },
        "outputId": "1a388f2d-45c5-4cb4-927a-d080a2ce7cf0"
      },
      "source": [
        "# Busca binária (iterativa)\n",
        "def myFunc(e): #funça organiza por key 'ip'\n",
        "  return e['nome']\n",
        "\n",
        "def busca_binaria(nome: str, servidores_dns: List[dict]) -> List[str]:\n",
        "  resultado_busca2 = []\n",
        "  while (servidores_dns):\n",
        "    max_indices = (len(servidores_dns)-1)\n",
        "    lim_inf = 0\n",
        "    lim_sup = max_indices\n",
        "    mediana = int((lim_inf+lim_sup)/2)\n",
        "    encontrado=False\n",
        "    #print(lim_inf)\n",
        "    #print(lim_sup)\n",
        "    #print(med)\n",
        "    #print(servidores_dns[med]['nome'])\n",
        "    while ((lim_inf <= lim_sup) and (not encontrado)):\n",
        "      med = int((lim_inf+lim_sup)/2)\n",
        "      #print(\"\\nentrou while 2\")\n",
        "      if nome.upper() in (servidores_dns[med]['nome']).upper():\n",
        "        #print(\"entrou if - encontrou!\")\n",
        "        resultado_busca2.append(servidores_dns[med]['ip'])\n",
        "        print(servidores_dns[med])\n",
        "        encontrado = True\n",
        "      elif nome[0].upper() <= (servidores_dns[med]['nome'].upper())[0]:\n",
        "        #print('entrou elif - antes')\n",
        "        lim_inf = lim_inf\n",
        "        lim_sup = med\n",
        "      else:\n",
        "        #print('entrou else - depois')\n",
        "        lim_inf = med\n",
        "        lim_sup = lim_sup\n",
        "      servidores_dns.pop(med)\n",
        "      lim_sup=lim_sup-1 #com a exclusão de um item da lista, o limite superior é alterado, decrescendo em 1.\n",
        "    #fim while\n",
        "    #if encontrado==False:\n",
        "      #print(\"ciclo sem correspondencias\")\n",
        "  #print (resultado_busca2) #apenas para conferencia do retorno\n",
        "  return resultado_busca2\n",
        "\n",
        "print(\"LISTA DE SERVIDORES: \"+ str(servidores_dns))\n",
        "lista_servidores = servidores_dns.copy() #copiar lista de servidores para evitar perder a lista original\n",
        "lista_servidores.sort(key=myFunc) #ordenar lista por ordem alfabética dos nomes\n",
        "print(\"LISTA DE SERVIDORES (COPIA): \"+ str(lista_servidores)) #imprimir apenas para conferencia\n",
        "print(\"TESTE IMPRESSÃO de IP: \"+ str(lista_servidores[0]['ip']))\n",
        "\n",
        "nome_buscado = input(\"digite o nome do servidor buscado: \")\n",
        "busca3 = busca_binaria(nome_buscado, lista_servidores)\n",
        "print(\"IP's encontrados para servidor informado: \"+str(busca3))\n",
        "print(len(busca3))\n",
        "print(\"fim\")"
      ],
      "execution_count": 5,
      "outputs": [
        {
          "output_type": "stream",
          "text": [
            "LISTA DE SERVIDORES: [{'ip': '189.125.18.5', 'nome': 'LVLT-3549'}, {'ip': '200.221.11.100', 'nome': 'Universo Online S.A.'}, {'ip': '179.111.229.178', 'nome': 'TELEFONICA BRASIL S.A'}, {'ip': '200.248.178.54', 'nome': 'CLARO S.A.'}, {'ip': '177.131.114.86', 'nome': 'ACESSOLINE TELECOMUNICACOES LTDA'}, {'ip': '54.94.175.250', 'nome': 'AMAZON-02'}, {'ip': '200.221.11.101', 'nome': 'Universo Online S.A.'}, {'ip': '45.235.35.52', 'nome': 'TOP 37 ESTACOES E REDES DE TELECOMUNICACOES LTDA'}, {'ip': '45.235.35.235', 'nome': 'TOP 37 ESTACOES E REDES DE TELECOMUNICACOES LTDA'}, {'ip': '177.12.230.174', 'nome': 'ALOO TELECOM - FSF TECNOLOGIA SA'}, {'ip': '177.15.67.65', 'nome': 'TELECOMUNICACOES BRASILEIRAS S. A. - TELEBRAS'}, {'ip': '177.36.152.171', 'nome': 'GSTN DO BRASIL LTDA'}, {'ip': '177.43.35.247', 'nome': 'TELEFONICA BRASIL S.A'}, {'ip': '177.43.56.139', 'nome': 'TELEFONICA BRASIL S.A'}, {'ip': '177.47.128.2', 'nome': 'Ver Tv Comunicacoes S/A'}, {'ip': '177.52.232.7', 'nome': 'RSS SOCIEDADE CIVIL LTDA'}, {'ip': '177.66.203.10', 'nome': 'Downup Telecomunicacoes e servico LTDA'}, {'ip': '177.92.0.90', 'nome': 'COPEL Telecomunicacoes S.A.'}, {'ip': '177.135.204.163', 'nome': 'TELEFONICA BRASIL S.A'}, {'ip': '177.159.232.50', 'nome': 'TELEFONICA BRASIL S.A'}, {'ip': '177.159.232.52', 'nome': 'TELEFONICA BRASIL S.A'}, {'ip': '177.159.232.53', 'nome': 'TELEFONICA BRASIL S.A'}, {'ip': '177.184.131.54', 'nome': 'SOBRALNET SERVICOS E TELECOMUNICACOES LTDA - ME'}, {'ip': '177.184.131.180', 'nome': 'SOBRALNET SERVICOS E TELECOMUNICACOES LTDA - ME'}, {'ip': '179.127.175.242', 'nome': 'Unifique Telecomunicacoes SA'}, {'ip': '186.194.224.82', 'nome': 'R&R PROVEDOR DE INTERNET LTDA'}, {'ip': '186.215.128.142', 'nome': 'TELEFONICA BRASIL S.A'}, {'ip': '186.225.194.29', 'nome': 'Pannet Servicos On Line Ltda'}, {'ip': '187.1.175.81', 'nome': 'WorldNet Telecom Comercio e Servicos de Telecomuni'}, {'ip': '187.6.84.178', 'nome': 'Brasil Telecom S/A - Filial Distrito Federal'}, {'ip': '187.32.81.194', 'nome': 'ALGAR TELECOM S/A'}, {'ip': '187.32.81.223', 'nome': 'ALGAR TELECOM S/A'}, {'ip': '187.44.1.140', 'nome': 'Rede Brasileira de Comunicacao Ltda'}, {'ip': '187.60.128.69', 'nome': 'Navinet Ltda'}, {'ip': '187.120.208.172', 'nome': 'AMPLITUDENET PROVEDOR DE ACESSO A INTERNET LTDA'}, {'ip': '189.4.130.159', 'nome': 'CLARO S.A.'}, {'ip': '189.42.239.34', 'nome': 'CLARO S.A.'}, {'ip': '189.111.254.56', 'nome': 'TELEFONICA BRASIL S.A'}, {'ip': '189.113.75.5', 'nome': 'VM OPENLINK COMUNICACAO MULTIMIDIA S.A.'}, {'ip': '189.125.73.13', 'nome': 'LVLT-3549'}, {'ip': '192.146.229.22', 'nome': 'Empresa Brasileira de Ens.Peq.Extensao S/A-EMBRAE'}, {'ip': '200.99.138.94', 'nome': 'TELEFONICA BRASIL S.A'}, {'ip': '200.99.138.103', 'nome': 'TELEFONICA BRASIL S.A'}, {'ip': '200.142.160.54', 'nome': 'Telespazio Brasil S.A.'}, {'ip': '200.150.112.58', 'nome': 'COPEL Telecomunicacoes S.A.'}, {'ip': '200.159.205.11', 'nome': 'AMERICAN TOWER DO BRASIL-COMUNICACAO MULTIMIDIA LT'}, {'ip': '200.159.205.12', 'nome': 'AMERICAN TOWER DO BRASIL-COMUNICACAO MULTIMIDIA LT'}, {'ip': '200.162.136.138', 'nome': 'Transit do Brasil S/A'}, {'ip': '200.162.142.66', 'nome': 'Transit do Brasil S/A'}, {'ip': '200.167.191.114', 'nome': 'CLARO S.A.'}, {'ip': '200.169.8.1', 'nome': 'Century Telecom Ltda'}, {'ip': '200.172.90.4', 'nome': 'CLARO S.A.'}, {'ip': '200.174.105.3', 'nome': 'CLARO S.A.'}, {'ip': '200.179.97.194', 'nome': 'CLARO S.A.'}, {'ip': '200.185.113.202', 'nome': 'TIVIT TERCEIRIZACAO DE PROCESSOS, SERV. E TEC. S/A'}, {'ip': '200.195.180.226', 'nome': 'COPEL Telecomunicacoes S.A.'}, {'ip': '200.196.57.42', 'nome': 'Mundivox LTDA'}, {'ip': '200.205.44.154', 'nome': 'TELEFONICA BRASIL S.A'}, {'ip': '200.222.51.208', 'nome': 'Telemar Norte Leste S.A.'}, {'ip': '200.223.129.162', 'nome': 'Telemar Norte Leste S.A.'}, {'ip': '200.252.235.20', 'nome': 'CLARO S.A.'}, {'ip': '201.28.69.242', 'nome': 'TELEFONICA BRASIL S.A'}, {'ip': '201.44.177.131', 'nome': 'CLARO S.A.'}, {'ip': '201.45.193.131', 'nome': 'CLARO S.A.'}, {'ip': '201.64.113.214', 'nome': 'CLARO S.A.'}, {'ip': '201.73.200.3', 'nome': 'CLARO S.A.'}, {'ip': '186.216.63.97', 'nome': 'METROFLEX TELECOMUNICACOES LTDA'}, {'ip': '186.237.202.26', 'nome': 'ALGAR TECNOLOGIA E CONSULTORIA SA'}, {'ip': '179.191.86.162', 'nome': 'Mundivox LTDA'}, {'ip': '177.43.76.244', 'nome': 'TELEFONICA BRASIL S.A'}, {'ip': '187.120.48.47', 'nome': 'RRM SERVICOS DE INFORMATICA LTDA'}, {'ip': '200.150.113.147', 'nome': 'COPEL Telecomunicacoes S.A.'}, {'ip': '201.39.214.142', 'nome': 'CLARO S.A.'}, {'ip': '201.87.219.232', 'nome': 'INTERNEXA BRASIL OPERADORA DE TELECOMUNICACOES S.A'}, {'ip': '200.150.79.85', 'nome': 'COPEL Telecomunicacoes S.A.'}, {'ip': '187.33.230.114', 'nome': 'TELY Ltda.'}, {'ip': '189.124.138.68', 'nome': 'CABO SERVICOS DE TELECOMUNICACOES LTDA'}, {'ip': '187.62.226.69', 'nome': 'METROFLEX TELECOMUNICACOES LTDA'}, {'ip': '187.62.226.65', 'nome': 'METROFLEX TELECOMUNICACOES LTDA'}, {'ip': '200.209.145.234', 'nome': 'CLARO S.A.'}, {'ip': '201.30.200.141', 'nome': 'CLARO S.A.'}, {'ip': '201.63.81.10', 'nome': 'TELEFONICA BRASIL S.A'}, {'ip': '187.75.155.116', 'nome': 'TELEFONICA BRASIL S.A'}, {'ip': '177.19.217.206', 'nome': 'TELEFONICA BRASIL S.A'}, {'ip': '189.113.132.101', 'nome': 'TELECALL TELECOMUNICACOES'}, {'ip': '189.55.193.173', 'nome': 'CLARO S.A.'}, {'ip': '186.216.62.5', 'nome': 'METROFLEX TELECOMUNICACOES LTDA'}, {'ip': '179.185.88.86', 'nome': 'TELEFONICA BRASIL S.A'}, {'ip': '168.181.111.10', 'nome': 'VERDANTE SERVICOS DE TELECOMUNICACOES LTDA'}, {'ip': '170.239.213.68', 'nome': 'H NET SERVICOS DE COMUNICACAO E TECNOLOGIA LTDA'}, {'ip': '170.247.211.253', 'nome': 'INTERLIGADOS PROVEDOR - ME'}, {'ip': '177.124.247.2', 'nome': 'Mundivox LTDA'}, {'ip': '177.85.176.140', 'nome': 'Ivr informatica ltda me'}, {'ip': '177.86.233.170', 'nome': 'Pw Access Telecomunicacoes Ltda'}, {'ip': '177.93.250.3', 'nome': 'TEN INTERNET Ltda'}, {'ip': '186.193.181.226', 'nome': 'Jupiter Telecomunicacoes e Informatica Ltda'}, {'ip': '186.215.192.243', 'nome': 'TELEFONICA BRASIL S.A'}, {'ip': '186.219.160.7', 'nome': 'HEXATO TECNOLOGIA E FERRAMENTAS DE INTERNET LTDA'}, {'ip': '200.220.192.88', 'nome': 'INTERNEXA BRASIL OPERADORA DE TELECOMUNICACOES S.A'}, {'ip': '45.233.172.10', 'nome': 'TRINDADEWEB PROVEDOR'}, {'ip': '200.195.174.67', 'nome': 'COPEL Telecomunicacoes S.A.'}, {'ip': '45.225.123.34', 'nome': 'CENTROSULNET INFORMATICA EIRELI'}, {'ip': '45.225.123.54', 'nome': 'CENTROSULNET INFORMATICA EIRELI'}, {'ip': '45.225.123.88', 'nome': 'CENTROSULNET INFORMATICA EIRELI'}]\n",
            "LISTA DE SERVIDORES (COPIA): [{'ip': '177.131.114.86', 'nome': 'ACESSOLINE TELECOMUNICACOES LTDA'}, {'ip': '186.237.202.26', 'nome': 'ALGAR TECNOLOGIA E CONSULTORIA SA'}, {'ip': '187.32.81.194', 'nome': 'ALGAR TELECOM S/A'}, {'ip': '187.32.81.223', 'nome': 'ALGAR TELECOM S/A'}, {'ip': '177.12.230.174', 'nome': 'ALOO TELECOM - FSF TECNOLOGIA SA'}, {'ip': '54.94.175.250', 'nome': 'AMAZON-02'}, {'ip': '200.159.205.11', 'nome': 'AMERICAN TOWER DO BRASIL-COMUNICACAO MULTIMIDIA LT'}, {'ip': '200.159.205.12', 'nome': 'AMERICAN TOWER DO BRASIL-COMUNICACAO MULTIMIDIA LT'}, {'ip': '187.120.208.172', 'nome': 'AMPLITUDENET PROVEDOR DE ACESSO A INTERNET LTDA'}, {'ip': '187.6.84.178', 'nome': 'Brasil Telecom S/A - Filial Distrito Federal'}, {'ip': '189.124.138.68', 'nome': 'CABO SERVICOS DE TELECOMUNICACOES LTDA'}, {'ip': '45.225.123.34', 'nome': 'CENTROSULNET INFORMATICA EIRELI'}, {'ip': '45.225.123.54', 'nome': 'CENTROSULNET INFORMATICA EIRELI'}, {'ip': '45.225.123.88', 'nome': 'CENTROSULNET INFORMATICA EIRELI'}, {'ip': '200.248.178.54', 'nome': 'CLARO S.A.'}, {'ip': '189.4.130.159', 'nome': 'CLARO S.A.'}, {'ip': '189.42.239.34', 'nome': 'CLARO S.A.'}, {'ip': '200.167.191.114', 'nome': 'CLARO S.A.'}, {'ip': '200.172.90.4', 'nome': 'CLARO S.A.'}, {'ip': '200.174.105.3', 'nome': 'CLARO S.A.'}, {'ip': '200.179.97.194', 'nome': 'CLARO S.A.'}, {'ip': '200.252.235.20', 'nome': 'CLARO S.A.'}, {'ip': '201.44.177.131', 'nome': 'CLARO S.A.'}, {'ip': '201.45.193.131', 'nome': 'CLARO S.A.'}, {'ip': '201.64.113.214', 'nome': 'CLARO S.A.'}, {'ip': '201.73.200.3', 'nome': 'CLARO S.A.'}, {'ip': '201.39.214.142', 'nome': 'CLARO S.A.'}, {'ip': '200.209.145.234', 'nome': 'CLARO S.A.'}, {'ip': '201.30.200.141', 'nome': 'CLARO S.A.'}, {'ip': '189.55.193.173', 'nome': 'CLARO S.A.'}, {'ip': '177.92.0.90', 'nome': 'COPEL Telecomunicacoes S.A.'}, {'ip': '200.150.112.58', 'nome': 'COPEL Telecomunicacoes S.A.'}, {'ip': '200.195.180.226', 'nome': 'COPEL Telecomunicacoes S.A.'}, {'ip': '200.150.113.147', 'nome': 'COPEL Telecomunicacoes S.A.'}, {'ip': '200.150.79.85', 'nome': 'COPEL Telecomunicacoes S.A.'}, {'ip': '200.195.174.67', 'nome': 'COPEL Telecomunicacoes S.A.'}, {'ip': '200.169.8.1', 'nome': 'Century Telecom Ltda'}, {'ip': '177.66.203.10', 'nome': 'Downup Telecomunicacoes e servico LTDA'}, {'ip': '192.146.229.22', 'nome': 'Empresa Brasileira de Ens.Peq.Extensao S/A-EMBRAE'}, {'ip': '177.36.152.171', 'nome': 'GSTN DO BRASIL LTDA'}, {'ip': '170.239.213.68', 'nome': 'H NET SERVICOS DE COMUNICACAO E TECNOLOGIA LTDA'}, {'ip': '186.219.160.7', 'nome': 'HEXATO TECNOLOGIA E FERRAMENTAS DE INTERNET LTDA'}, {'ip': '170.247.211.253', 'nome': 'INTERLIGADOS PROVEDOR - ME'}, {'ip': '201.87.219.232', 'nome': 'INTERNEXA BRASIL OPERADORA DE TELECOMUNICACOES S.A'}, {'ip': '200.220.192.88', 'nome': 'INTERNEXA BRASIL OPERADORA DE TELECOMUNICACOES S.A'}, {'ip': '177.85.176.140', 'nome': 'Ivr informatica ltda me'}, {'ip': '186.193.181.226', 'nome': 'Jupiter Telecomunicacoes e Informatica Ltda'}, {'ip': '189.125.18.5', 'nome': 'LVLT-3549'}, {'ip': '189.125.73.13', 'nome': 'LVLT-3549'}, {'ip': '186.216.63.97', 'nome': 'METROFLEX TELECOMUNICACOES LTDA'}, {'ip': '187.62.226.69', 'nome': 'METROFLEX TELECOMUNICACOES LTDA'}, {'ip': '187.62.226.65', 'nome': 'METROFLEX TELECOMUNICACOES LTDA'}, {'ip': '186.216.62.5', 'nome': 'METROFLEX TELECOMUNICACOES LTDA'}, {'ip': '200.196.57.42', 'nome': 'Mundivox LTDA'}, {'ip': '179.191.86.162', 'nome': 'Mundivox LTDA'}, {'ip': '177.124.247.2', 'nome': 'Mundivox LTDA'}, {'ip': '187.60.128.69', 'nome': 'Navinet Ltda'}, {'ip': '186.225.194.29', 'nome': 'Pannet Servicos On Line Ltda'}, {'ip': '177.86.233.170', 'nome': 'Pw Access Telecomunicacoes Ltda'}, {'ip': '186.194.224.82', 'nome': 'R&R PROVEDOR DE INTERNET LTDA'}, {'ip': '187.120.48.47', 'nome': 'RRM SERVICOS DE INFORMATICA LTDA'}, {'ip': '177.52.232.7', 'nome': 'RSS SOCIEDADE CIVIL LTDA'}, {'ip': '187.44.1.140', 'nome': 'Rede Brasileira de Comunicacao Ltda'}, {'ip': '177.184.131.54', 'nome': 'SOBRALNET SERVICOS E TELECOMUNICACOES LTDA - ME'}, {'ip': '177.184.131.180', 'nome': 'SOBRALNET SERVICOS E TELECOMUNICACOES LTDA - ME'}, {'ip': '189.113.132.101', 'nome': 'TELECALL TELECOMUNICACOES'}, {'ip': '177.15.67.65', 'nome': 'TELECOMUNICACOES BRASILEIRAS S. A. - TELEBRAS'}, {'ip': '179.111.229.178', 'nome': 'TELEFONICA BRASIL S.A'}, {'ip': '177.43.35.247', 'nome': 'TELEFONICA BRASIL S.A'}, {'ip': '177.43.56.139', 'nome': 'TELEFONICA BRASIL S.A'}, {'ip': '177.135.204.163', 'nome': 'TELEFONICA BRASIL S.A'}, {'ip': '177.159.232.50', 'nome': 'TELEFONICA BRASIL S.A'}, {'ip': '177.159.232.52', 'nome': 'TELEFONICA BRASIL S.A'}, {'ip': '177.159.232.53', 'nome': 'TELEFONICA BRASIL S.A'}, {'ip': '186.215.128.142', 'nome': 'TELEFONICA BRASIL S.A'}, {'ip': '189.111.254.56', 'nome': 'TELEFONICA BRASIL S.A'}, {'ip': '200.99.138.94', 'nome': 'TELEFONICA BRASIL S.A'}, {'ip': '200.99.138.103', 'nome': 'TELEFONICA BRASIL S.A'}, {'ip': '200.205.44.154', 'nome': 'TELEFONICA BRASIL S.A'}, {'ip': '201.28.69.242', 'nome': 'TELEFONICA BRASIL S.A'}, {'ip': '177.43.76.244', 'nome': 'TELEFONICA BRASIL S.A'}, {'ip': '201.63.81.10', 'nome': 'TELEFONICA BRASIL S.A'}, {'ip': '187.75.155.116', 'nome': 'TELEFONICA BRASIL S.A'}, {'ip': '177.19.217.206', 'nome': 'TELEFONICA BRASIL S.A'}, {'ip': '179.185.88.86', 'nome': 'TELEFONICA BRASIL S.A'}, {'ip': '186.215.192.243', 'nome': 'TELEFONICA BRASIL S.A'}, {'ip': '187.33.230.114', 'nome': 'TELY Ltda.'}, {'ip': '177.93.250.3', 'nome': 'TEN INTERNET Ltda'}, {'ip': '200.185.113.202', 'nome': 'TIVIT TERCEIRIZACAO DE PROCESSOS, SERV. E TEC. S/A'}, {'ip': '45.235.35.52', 'nome': 'TOP 37 ESTACOES E REDES DE TELECOMUNICACOES LTDA'}, {'ip': '45.235.35.235', 'nome': 'TOP 37 ESTACOES E REDES DE TELECOMUNICACOES LTDA'}, {'ip': '45.233.172.10', 'nome': 'TRINDADEWEB PROVEDOR'}, {'ip': '200.222.51.208', 'nome': 'Telemar Norte Leste S.A.'}, {'ip': '200.223.129.162', 'nome': 'Telemar Norte Leste S.A.'}, {'ip': '200.142.160.54', 'nome': 'Telespazio Brasil S.A.'}, {'ip': '200.162.136.138', 'nome': 'Transit do Brasil S/A'}, {'ip': '200.162.142.66', 'nome': 'Transit do Brasil S/A'}, {'ip': '179.127.175.242', 'nome': 'Unifique Telecomunicacoes SA'}, {'ip': '200.221.11.100', 'nome': 'Universo Online S.A.'}, {'ip': '200.221.11.101', 'nome': 'Universo Online S.A.'}, {'ip': '168.181.111.10', 'nome': 'VERDANTE SERVICOS DE TELECOMUNICACOES LTDA'}, {'ip': '189.113.75.5', 'nome': 'VM OPENLINK COMUNICACAO MULTIMIDIA S.A.'}, {'ip': '177.47.128.2', 'nome': 'Ver Tv Comunicacoes S/A'}, {'ip': '187.1.175.81', 'nome': 'WorldNet Telecom Comercio e Servicos de Telecomuni'}]\n",
            "TESTE IMPRESSÃO de IP: 177.131.114.86\n",
            "digite o nome do servidor buscado: Universo Online S.A.\n",
            "{'ip': '200.221.11.100', 'nome': 'Universo Online S.A.'}\n",
            "{'ip': '200.221.11.101', 'nome': 'Universo Online S.A.'}\n",
            "IP's encontrados para servidor informado: ['200.221.11.100', '200.221.11.101']\n",
            "2\n",
            "fim\n"
          ],
          "name": "stdout"
        }
      ]
    },
    {
      "cell_type": "code",
      "metadata": {
        "id": "x5NKzLkQT3NN",
        "colab": {
          "base_uri": "https://localhost:8080/"
        },
        "outputId": "4d665464-97c9-4619-90f6-785327abc2f8"
      },
      "source": [
        "# Busca binária (recursiva)\n",
        "\n",
        "def myFunc(e): #funça organiza por key 'ip'\n",
        "  return e['nome']\n",
        "\n",
        "def busca_binaria_recursiva(nome: str, servidores_dns: List[dict], lim_inf, lim_sup, ips=[]) -> List[str]:\n",
        "  if not servidores_dns:\n",
        "    return ips\n",
        "  if not lim_sup:\n",
        "    max_indices = (len(servidores_dns)-1)\n",
        "    lim_sup=max_indices  \n",
        "  mediana = int((lim_inf+lim_sup)/2)\n",
        "  encontrado=False\n",
        "    \n",
        "  if nome.upper() in (servidores_dns[mediana]['nome']).upper():\n",
        "    ips.append(servidores_dns[mediana]['ip'])\n",
        "    print(servidores_dns[mediana])\n",
        "  \n",
        "  if (nome[0].upper() <= (servidores_dns[mediana]['nome'].upper())[0]):\n",
        "    lim_inf = lim_inf\n",
        "    lim_sup = mediana\n",
        "  else:\n",
        "    lim_inf = mediana\n",
        "    lim_sup = lim_sup\n",
        "  \n",
        "  servidores_dns.pop(mediana)\n",
        "  lim_sup=lim_sup-1 #com a exclusão de um item da lista, o limite superior é alterado, decrescendo em 1.\n",
        "  return busca_binaria_recursiva(nome, servidores_dns, lim_inf, lim_sup, ips)\n",
        "\n",
        "print(\"LISTA DE SERVIDORES: \"+ str(servidores_dns))\n",
        "lista_servidores = servidores_dns.copy() #copiar lista de servidores para evitar perder a lista original\n",
        "lista_servidores.sort(key=myFunc) #ordenar lista por ordem alfabética dos nomes\n",
        "print(\"LISTA DE SERVIDORES (COPIA): \"+ str(lista_servidores)) #imprimir apenas para conferencia\n",
        "print(\"TESTE IMPRESSÃO de IP: \"+ str(lista_servidores[0]['ip']))\n",
        "\n",
        "nome_buscado = input(\"digite o nome do servidor buscado: \")\n",
        "busca4 = []\n",
        "busca_binaria_recursiva(nome_buscado, lista_servidores,0,None, busca4)\n",
        "print(\"IP's encontrados para servidor informado: \"+str(busca4))\n",
        "print(len(busca4))\n",
        "print(\"fim\")"
      ],
      "execution_count": 6,
      "outputs": [
        {
          "output_type": "stream",
          "text": [
            "LISTA DE SERVIDORES: [{'ip': '189.125.18.5', 'nome': 'LVLT-3549'}, {'ip': '200.221.11.100', 'nome': 'Universo Online S.A.'}, {'ip': '179.111.229.178', 'nome': 'TELEFONICA BRASIL S.A'}, {'ip': '200.248.178.54', 'nome': 'CLARO S.A.'}, {'ip': '177.131.114.86', 'nome': 'ACESSOLINE TELECOMUNICACOES LTDA'}, {'ip': '54.94.175.250', 'nome': 'AMAZON-02'}, {'ip': '200.221.11.101', 'nome': 'Universo Online S.A.'}, {'ip': '45.235.35.52', 'nome': 'TOP 37 ESTACOES E REDES DE TELECOMUNICACOES LTDA'}, {'ip': '45.235.35.235', 'nome': 'TOP 37 ESTACOES E REDES DE TELECOMUNICACOES LTDA'}, {'ip': '177.12.230.174', 'nome': 'ALOO TELECOM - FSF TECNOLOGIA SA'}, {'ip': '177.15.67.65', 'nome': 'TELECOMUNICACOES BRASILEIRAS S. A. - TELEBRAS'}, {'ip': '177.36.152.171', 'nome': 'GSTN DO BRASIL LTDA'}, {'ip': '177.43.35.247', 'nome': 'TELEFONICA BRASIL S.A'}, {'ip': '177.43.56.139', 'nome': 'TELEFONICA BRASIL S.A'}, {'ip': '177.47.128.2', 'nome': 'Ver Tv Comunicacoes S/A'}, {'ip': '177.52.232.7', 'nome': 'RSS SOCIEDADE CIVIL LTDA'}, {'ip': '177.66.203.10', 'nome': 'Downup Telecomunicacoes e servico LTDA'}, {'ip': '177.92.0.90', 'nome': 'COPEL Telecomunicacoes S.A.'}, {'ip': '177.135.204.163', 'nome': 'TELEFONICA BRASIL S.A'}, {'ip': '177.159.232.50', 'nome': 'TELEFONICA BRASIL S.A'}, {'ip': '177.159.232.52', 'nome': 'TELEFONICA BRASIL S.A'}, {'ip': '177.159.232.53', 'nome': 'TELEFONICA BRASIL S.A'}, {'ip': '177.184.131.54', 'nome': 'SOBRALNET SERVICOS E TELECOMUNICACOES LTDA - ME'}, {'ip': '177.184.131.180', 'nome': 'SOBRALNET SERVICOS E TELECOMUNICACOES LTDA - ME'}, {'ip': '179.127.175.242', 'nome': 'Unifique Telecomunicacoes SA'}, {'ip': '186.194.224.82', 'nome': 'R&R PROVEDOR DE INTERNET LTDA'}, {'ip': '186.215.128.142', 'nome': 'TELEFONICA BRASIL S.A'}, {'ip': '186.225.194.29', 'nome': 'Pannet Servicos On Line Ltda'}, {'ip': '187.1.175.81', 'nome': 'WorldNet Telecom Comercio e Servicos de Telecomuni'}, {'ip': '187.6.84.178', 'nome': 'Brasil Telecom S/A - Filial Distrito Federal'}, {'ip': '187.32.81.194', 'nome': 'ALGAR TELECOM S/A'}, {'ip': '187.32.81.223', 'nome': 'ALGAR TELECOM S/A'}, {'ip': '187.44.1.140', 'nome': 'Rede Brasileira de Comunicacao Ltda'}, {'ip': '187.60.128.69', 'nome': 'Navinet Ltda'}, {'ip': '187.120.208.172', 'nome': 'AMPLITUDENET PROVEDOR DE ACESSO A INTERNET LTDA'}, {'ip': '189.4.130.159', 'nome': 'CLARO S.A.'}, {'ip': '189.42.239.34', 'nome': 'CLARO S.A.'}, {'ip': '189.111.254.56', 'nome': 'TELEFONICA BRASIL S.A'}, {'ip': '189.113.75.5', 'nome': 'VM OPENLINK COMUNICACAO MULTIMIDIA S.A.'}, {'ip': '189.125.73.13', 'nome': 'LVLT-3549'}, {'ip': '192.146.229.22', 'nome': 'Empresa Brasileira de Ens.Peq.Extensao S/A-EMBRAE'}, {'ip': '200.99.138.94', 'nome': 'TELEFONICA BRASIL S.A'}, {'ip': '200.99.138.103', 'nome': 'TELEFONICA BRASIL S.A'}, {'ip': '200.142.160.54', 'nome': 'Telespazio Brasil S.A.'}, {'ip': '200.150.112.58', 'nome': 'COPEL Telecomunicacoes S.A.'}, {'ip': '200.159.205.11', 'nome': 'AMERICAN TOWER DO BRASIL-COMUNICACAO MULTIMIDIA LT'}, {'ip': '200.159.205.12', 'nome': 'AMERICAN TOWER DO BRASIL-COMUNICACAO MULTIMIDIA LT'}, {'ip': '200.162.136.138', 'nome': 'Transit do Brasil S/A'}, {'ip': '200.162.142.66', 'nome': 'Transit do Brasil S/A'}, {'ip': '200.167.191.114', 'nome': 'CLARO S.A.'}, {'ip': '200.169.8.1', 'nome': 'Century Telecom Ltda'}, {'ip': '200.172.90.4', 'nome': 'CLARO S.A.'}, {'ip': '200.174.105.3', 'nome': 'CLARO S.A.'}, {'ip': '200.179.97.194', 'nome': 'CLARO S.A.'}, {'ip': '200.185.113.202', 'nome': 'TIVIT TERCEIRIZACAO DE PROCESSOS, SERV. E TEC. S/A'}, {'ip': '200.195.180.226', 'nome': 'COPEL Telecomunicacoes S.A.'}, {'ip': '200.196.57.42', 'nome': 'Mundivox LTDA'}, {'ip': '200.205.44.154', 'nome': 'TELEFONICA BRASIL S.A'}, {'ip': '200.222.51.208', 'nome': 'Telemar Norte Leste S.A.'}, {'ip': '200.223.129.162', 'nome': 'Telemar Norte Leste S.A.'}, {'ip': '200.252.235.20', 'nome': 'CLARO S.A.'}, {'ip': '201.28.69.242', 'nome': 'TELEFONICA BRASIL S.A'}, {'ip': '201.44.177.131', 'nome': 'CLARO S.A.'}, {'ip': '201.45.193.131', 'nome': 'CLARO S.A.'}, {'ip': '201.64.113.214', 'nome': 'CLARO S.A.'}, {'ip': '201.73.200.3', 'nome': 'CLARO S.A.'}, {'ip': '186.216.63.97', 'nome': 'METROFLEX TELECOMUNICACOES LTDA'}, {'ip': '186.237.202.26', 'nome': 'ALGAR TECNOLOGIA E CONSULTORIA SA'}, {'ip': '179.191.86.162', 'nome': 'Mundivox LTDA'}, {'ip': '177.43.76.244', 'nome': 'TELEFONICA BRASIL S.A'}, {'ip': '187.120.48.47', 'nome': 'RRM SERVICOS DE INFORMATICA LTDA'}, {'ip': '200.150.113.147', 'nome': 'COPEL Telecomunicacoes S.A.'}, {'ip': '201.39.214.142', 'nome': 'CLARO S.A.'}, {'ip': '201.87.219.232', 'nome': 'INTERNEXA BRASIL OPERADORA DE TELECOMUNICACOES S.A'}, {'ip': '200.150.79.85', 'nome': 'COPEL Telecomunicacoes S.A.'}, {'ip': '187.33.230.114', 'nome': 'TELY Ltda.'}, {'ip': '189.124.138.68', 'nome': 'CABO SERVICOS DE TELECOMUNICACOES LTDA'}, {'ip': '187.62.226.69', 'nome': 'METROFLEX TELECOMUNICACOES LTDA'}, {'ip': '187.62.226.65', 'nome': 'METROFLEX TELECOMUNICACOES LTDA'}, {'ip': '200.209.145.234', 'nome': 'CLARO S.A.'}, {'ip': '201.30.200.141', 'nome': 'CLARO S.A.'}, {'ip': '201.63.81.10', 'nome': 'TELEFONICA BRASIL S.A'}, {'ip': '187.75.155.116', 'nome': 'TELEFONICA BRASIL S.A'}, {'ip': '177.19.217.206', 'nome': 'TELEFONICA BRASIL S.A'}, {'ip': '189.113.132.101', 'nome': 'TELECALL TELECOMUNICACOES'}, {'ip': '189.55.193.173', 'nome': 'CLARO S.A.'}, {'ip': '186.216.62.5', 'nome': 'METROFLEX TELECOMUNICACOES LTDA'}, {'ip': '179.185.88.86', 'nome': 'TELEFONICA BRASIL S.A'}, {'ip': '168.181.111.10', 'nome': 'VERDANTE SERVICOS DE TELECOMUNICACOES LTDA'}, {'ip': '170.239.213.68', 'nome': 'H NET SERVICOS DE COMUNICACAO E TECNOLOGIA LTDA'}, {'ip': '170.247.211.253', 'nome': 'INTERLIGADOS PROVEDOR - ME'}, {'ip': '177.124.247.2', 'nome': 'Mundivox LTDA'}, {'ip': '177.85.176.140', 'nome': 'Ivr informatica ltda me'}, {'ip': '177.86.233.170', 'nome': 'Pw Access Telecomunicacoes Ltda'}, {'ip': '177.93.250.3', 'nome': 'TEN INTERNET Ltda'}, {'ip': '186.193.181.226', 'nome': 'Jupiter Telecomunicacoes e Informatica Ltda'}, {'ip': '186.215.192.243', 'nome': 'TELEFONICA BRASIL S.A'}, {'ip': '186.219.160.7', 'nome': 'HEXATO TECNOLOGIA E FERRAMENTAS DE INTERNET LTDA'}, {'ip': '200.220.192.88', 'nome': 'INTERNEXA BRASIL OPERADORA DE TELECOMUNICACOES S.A'}, {'ip': '45.233.172.10', 'nome': 'TRINDADEWEB PROVEDOR'}, {'ip': '200.195.174.67', 'nome': 'COPEL Telecomunicacoes S.A.'}, {'ip': '45.225.123.34', 'nome': 'CENTROSULNET INFORMATICA EIRELI'}, {'ip': '45.225.123.54', 'nome': 'CENTROSULNET INFORMATICA EIRELI'}, {'ip': '45.225.123.88', 'nome': 'CENTROSULNET INFORMATICA EIRELI'}]\n",
            "LISTA DE SERVIDORES (COPIA): [{'ip': '177.131.114.86', 'nome': 'ACESSOLINE TELECOMUNICACOES LTDA'}, {'ip': '186.237.202.26', 'nome': 'ALGAR TECNOLOGIA E CONSULTORIA SA'}, {'ip': '187.32.81.194', 'nome': 'ALGAR TELECOM S/A'}, {'ip': '187.32.81.223', 'nome': 'ALGAR TELECOM S/A'}, {'ip': '177.12.230.174', 'nome': 'ALOO TELECOM - FSF TECNOLOGIA SA'}, {'ip': '54.94.175.250', 'nome': 'AMAZON-02'}, {'ip': '200.159.205.11', 'nome': 'AMERICAN TOWER DO BRASIL-COMUNICACAO MULTIMIDIA LT'}, {'ip': '200.159.205.12', 'nome': 'AMERICAN TOWER DO BRASIL-COMUNICACAO MULTIMIDIA LT'}, {'ip': '187.120.208.172', 'nome': 'AMPLITUDENET PROVEDOR DE ACESSO A INTERNET LTDA'}, {'ip': '187.6.84.178', 'nome': 'Brasil Telecom S/A - Filial Distrito Federal'}, {'ip': '189.124.138.68', 'nome': 'CABO SERVICOS DE TELECOMUNICACOES LTDA'}, {'ip': '45.225.123.34', 'nome': 'CENTROSULNET INFORMATICA EIRELI'}, {'ip': '45.225.123.54', 'nome': 'CENTROSULNET INFORMATICA EIRELI'}, {'ip': '45.225.123.88', 'nome': 'CENTROSULNET INFORMATICA EIRELI'}, {'ip': '200.248.178.54', 'nome': 'CLARO S.A.'}, {'ip': '189.4.130.159', 'nome': 'CLARO S.A.'}, {'ip': '189.42.239.34', 'nome': 'CLARO S.A.'}, {'ip': '200.167.191.114', 'nome': 'CLARO S.A.'}, {'ip': '200.172.90.4', 'nome': 'CLARO S.A.'}, {'ip': '200.174.105.3', 'nome': 'CLARO S.A.'}, {'ip': '200.179.97.194', 'nome': 'CLARO S.A.'}, {'ip': '200.252.235.20', 'nome': 'CLARO S.A.'}, {'ip': '201.44.177.131', 'nome': 'CLARO S.A.'}, {'ip': '201.45.193.131', 'nome': 'CLARO S.A.'}, {'ip': '201.64.113.214', 'nome': 'CLARO S.A.'}, {'ip': '201.73.200.3', 'nome': 'CLARO S.A.'}, {'ip': '201.39.214.142', 'nome': 'CLARO S.A.'}, {'ip': '200.209.145.234', 'nome': 'CLARO S.A.'}, {'ip': '201.30.200.141', 'nome': 'CLARO S.A.'}, {'ip': '189.55.193.173', 'nome': 'CLARO S.A.'}, {'ip': '177.92.0.90', 'nome': 'COPEL Telecomunicacoes S.A.'}, {'ip': '200.150.112.58', 'nome': 'COPEL Telecomunicacoes S.A.'}, {'ip': '200.195.180.226', 'nome': 'COPEL Telecomunicacoes S.A.'}, {'ip': '200.150.113.147', 'nome': 'COPEL Telecomunicacoes S.A.'}, {'ip': '200.150.79.85', 'nome': 'COPEL Telecomunicacoes S.A.'}, {'ip': '200.195.174.67', 'nome': 'COPEL Telecomunicacoes S.A.'}, {'ip': '200.169.8.1', 'nome': 'Century Telecom Ltda'}, {'ip': '177.66.203.10', 'nome': 'Downup Telecomunicacoes e servico LTDA'}, {'ip': '192.146.229.22', 'nome': 'Empresa Brasileira de Ens.Peq.Extensao S/A-EMBRAE'}, {'ip': '177.36.152.171', 'nome': 'GSTN DO BRASIL LTDA'}, {'ip': '170.239.213.68', 'nome': 'H NET SERVICOS DE COMUNICACAO E TECNOLOGIA LTDA'}, {'ip': '186.219.160.7', 'nome': 'HEXATO TECNOLOGIA E FERRAMENTAS DE INTERNET LTDA'}, {'ip': '170.247.211.253', 'nome': 'INTERLIGADOS PROVEDOR - ME'}, {'ip': '201.87.219.232', 'nome': 'INTERNEXA BRASIL OPERADORA DE TELECOMUNICACOES S.A'}, {'ip': '200.220.192.88', 'nome': 'INTERNEXA BRASIL OPERADORA DE TELECOMUNICACOES S.A'}, {'ip': '177.85.176.140', 'nome': 'Ivr informatica ltda me'}, {'ip': '186.193.181.226', 'nome': 'Jupiter Telecomunicacoes e Informatica Ltda'}, {'ip': '189.125.18.5', 'nome': 'LVLT-3549'}, {'ip': '189.125.73.13', 'nome': 'LVLT-3549'}, {'ip': '186.216.63.97', 'nome': 'METROFLEX TELECOMUNICACOES LTDA'}, {'ip': '187.62.226.69', 'nome': 'METROFLEX TELECOMUNICACOES LTDA'}, {'ip': '187.62.226.65', 'nome': 'METROFLEX TELECOMUNICACOES LTDA'}, {'ip': '186.216.62.5', 'nome': 'METROFLEX TELECOMUNICACOES LTDA'}, {'ip': '200.196.57.42', 'nome': 'Mundivox LTDA'}, {'ip': '179.191.86.162', 'nome': 'Mundivox LTDA'}, {'ip': '177.124.247.2', 'nome': 'Mundivox LTDA'}, {'ip': '187.60.128.69', 'nome': 'Navinet Ltda'}, {'ip': '186.225.194.29', 'nome': 'Pannet Servicos On Line Ltda'}, {'ip': '177.86.233.170', 'nome': 'Pw Access Telecomunicacoes Ltda'}, {'ip': '186.194.224.82', 'nome': 'R&R PROVEDOR DE INTERNET LTDA'}, {'ip': '187.120.48.47', 'nome': 'RRM SERVICOS DE INFORMATICA LTDA'}, {'ip': '177.52.232.7', 'nome': 'RSS SOCIEDADE CIVIL LTDA'}, {'ip': '187.44.1.140', 'nome': 'Rede Brasileira de Comunicacao Ltda'}, {'ip': '177.184.131.54', 'nome': 'SOBRALNET SERVICOS E TELECOMUNICACOES LTDA - ME'}, {'ip': '177.184.131.180', 'nome': 'SOBRALNET SERVICOS E TELECOMUNICACOES LTDA - ME'}, {'ip': '189.113.132.101', 'nome': 'TELECALL TELECOMUNICACOES'}, {'ip': '177.15.67.65', 'nome': 'TELECOMUNICACOES BRASILEIRAS S. A. - TELEBRAS'}, {'ip': '179.111.229.178', 'nome': 'TELEFONICA BRASIL S.A'}, {'ip': '177.43.35.247', 'nome': 'TELEFONICA BRASIL S.A'}, {'ip': '177.43.56.139', 'nome': 'TELEFONICA BRASIL S.A'}, {'ip': '177.135.204.163', 'nome': 'TELEFONICA BRASIL S.A'}, {'ip': '177.159.232.50', 'nome': 'TELEFONICA BRASIL S.A'}, {'ip': '177.159.232.52', 'nome': 'TELEFONICA BRASIL S.A'}, {'ip': '177.159.232.53', 'nome': 'TELEFONICA BRASIL S.A'}, {'ip': '186.215.128.142', 'nome': 'TELEFONICA BRASIL S.A'}, {'ip': '189.111.254.56', 'nome': 'TELEFONICA BRASIL S.A'}, {'ip': '200.99.138.94', 'nome': 'TELEFONICA BRASIL S.A'}, {'ip': '200.99.138.103', 'nome': 'TELEFONICA BRASIL S.A'}, {'ip': '200.205.44.154', 'nome': 'TELEFONICA BRASIL S.A'}, {'ip': '201.28.69.242', 'nome': 'TELEFONICA BRASIL S.A'}, {'ip': '177.43.76.244', 'nome': 'TELEFONICA BRASIL S.A'}, {'ip': '201.63.81.10', 'nome': 'TELEFONICA BRASIL S.A'}, {'ip': '187.75.155.116', 'nome': 'TELEFONICA BRASIL S.A'}, {'ip': '177.19.217.206', 'nome': 'TELEFONICA BRASIL S.A'}, {'ip': '179.185.88.86', 'nome': 'TELEFONICA BRASIL S.A'}, {'ip': '186.215.192.243', 'nome': 'TELEFONICA BRASIL S.A'}, {'ip': '187.33.230.114', 'nome': 'TELY Ltda.'}, {'ip': '177.93.250.3', 'nome': 'TEN INTERNET Ltda'}, {'ip': '200.185.113.202', 'nome': 'TIVIT TERCEIRIZACAO DE PROCESSOS, SERV. E TEC. S/A'}, {'ip': '45.235.35.52', 'nome': 'TOP 37 ESTACOES E REDES DE TELECOMUNICACOES LTDA'}, {'ip': '45.235.35.235', 'nome': 'TOP 37 ESTACOES E REDES DE TELECOMUNICACOES LTDA'}, {'ip': '45.233.172.10', 'nome': 'TRINDADEWEB PROVEDOR'}, {'ip': '200.222.51.208', 'nome': 'Telemar Norte Leste S.A.'}, {'ip': '200.223.129.162', 'nome': 'Telemar Norte Leste S.A.'}, {'ip': '200.142.160.54', 'nome': 'Telespazio Brasil S.A.'}, {'ip': '200.162.136.138', 'nome': 'Transit do Brasil S/A'}, {'ip': '200.162.142.66', 'nome': 'Transit do Brasil S/A'}, {'ip': '179.127.175.242', 'nome': 'Unifique Telecomunicacoes SA'}, {'ip': '200.221.11.100', 'nome': 'Universo Online S.A.'}, {'ip': '200.221.11.101', 'nome': 'Universo Online S.A.'}, {'ip': '168.181.111.10', 'nome': 'VERDANTE SERVICOS DE TELECOMUNICACOES LTDA'}, {'ip': '189.113.75.5', 'nome': 'VM OPENLINK COMUNICACAO MULTIMIDIA S.A.'}, {'ip': '177.47.128.2', 'nome': 'Ver Tv Comunicacoes S/A'}, {'ip': '187.1.175.81', 'nome': 'WorldNet Telecom Comercio e Servicos de Telecomuni'}]\n",
            "TESTE IMPRESSÃO de IP: 177.131.114.86\n",
            "digite o nome do servidor buscado: Universo Online S.A\n",
            "{'ip': '200.221.11.100', 'nome': 'Universo Online S.A.'}\n",
            "{'ip': '200.221.11.101', 'nome': 'Universo Online S.A.'}\n",
            "IP's encontrados para servidor informado: ['200.221.11.100', '200.221.11.101']\n",
            "2\n",
            "fim\n"
          ],
          "name": "stdout"
        }
      ]
    },
    {
      "cell_type": "code",
      "metadata": {
        "id": "LvEEAhcVNXeD"
      },
      "source": [
        ""
      ],
      "execution_count": null,
      "outputs": []
    }
  ]
}